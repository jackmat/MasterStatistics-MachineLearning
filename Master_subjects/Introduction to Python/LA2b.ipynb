{
 "cells": [
  {
   "cell_type": "markdown",
   "metadata": {},
   "source": [
    "# Lab 2B: Programming Paradigms in Python - Object-oriented Programming\n"
   ]
  },
  {
   "cell_type": "markdown",
   "metadata": {},
   "source": [
    "__Student:__ abcde123"
   ]
  },
  {
   "cell_type": "markdown",
   "metadata": {},
   "source": [
    "# Object-oriented Programming"
   ]
  },
  {
   "cell_type": "markdown",
   "metadata": {},
   "source": [
    "The point of Object-oriented Programming is to support encapsulation and the DRY (Don't Repeat Yourself) principle without things getting out of hand. Often, software architects (those high-level programmers who are responsible for how large systems are designed on a technical level) talk about Object-oriented design or Object-oriented analysis. The point of this is to identify the necessary _objects_ in a system. An object in this sense is not exactly the same as a Python object but rather a somewhat higher level logical unit which can reasonably be thought of as an independent component within the system. These high level objects might then be further subdivided into smaller and smaller objects and at a some level the responsibility shifts from the system architect to the team or individual developer working on a specific component. Thus, Object-oriented thinking is necessary for anyone developing code which will be integrated with a larger system, for instance a data scientist implementing analytics tools.\n",
    "\n",
    "It also means that the assignments in this part of Lab 2 will be at a higher level than the assignments in the FP part, not focusing as much on low level implementation of functions but rather on program organization. Therefore, you will also not get the same kind of code stubs or skeletons but will be required to build your code from scratch."
   ]
  },
  {
   "cell_type": "markdown",
   "metadata": {},
   "source": [
    "Python implements the Object-oriented paradigm to a somewhat larger degree than the Functional paradigm. However, there are features considered necessary for _strict_ object-oriented programming missing from Python. Mainly, we are talking about data protection. Not in a software security sense, but in the sense of encapsulation. There is no simple way to strictly control access to member variables in Python. This does not affect this lab in any way but is worth remembering if one has worked in a language such as Java previously."
   ]
  },
  {
   "cell_type": "markdown",
   "metadata": {},
   "source": [
    "### The Person class\n",
    "\n",
    "We will start with a classic example of using classes and objects to represent actual physical objects. Those of you who have taken a course in Databases might recognize the domain. Make sure each assignment is done before starting the next one even though this might mean changes to your code.\n",
    "\n",
    "#### 1.1\n",
    "Start with creating a class called Person. The constructor should take 3 arguments, a given name, a surname and a date (use the date class in the datetime module) representing the persons birth date. The class should have the following instance functions (`get_full_name`, `get_birthdate` and `get_age`). The function `get_age` should return an integer representing the persons age in years. When Finished, run the test code for 1.1.\n",
    "\n",
    "#### 1.2\n",
    "The Person class should keep a list of references to all created Person objects. Add the two class functions (`persons_created` which returns the number of Person objects created, and `get_persons` which returns a list of all Person objects). Run the test code for 1.2\n",
    "\n",
    "##### 1.2.1\n",
    "If you got a TypeError when calling `Person.persons_created` you might want to look up the `classmethod` function and its preferred use as the `@classmethod` decorator ([more on `classmethod`](https://www.programiz.com/python-programming/methods/built-in/classmethod)). Decorators can be thought of as _syntactic sugar_ to apply a higher-order function to some function to add specific behavior. You can write your own decorators and this is often used to combine the strengths of functional and object-oriented programming ([more on decorators](https://www.thecodeship.com/patterns/guide-to-python-function-decorators/)). What specific behavior is added by the `@classmethod` decorator?\n",
    "\n",
    "#### 1.3\n",
    "Add an instance function `get_id` which, when called, simply raises a [NotImplementedError](https://docs.python.org/3.4/library/exceptions.html#NotImplementedError). This makes `get_id` an _abstract function_. I.e. it makes clear that this function should be implemented by a sub-class of Person. Run the test code for 1.3."
   ]
  },
  {
   "cell_type": "code",
   "execution_count": 37,
   "metadata": {},
   "outputs": [
    {
     "name": "stdout",
     "output_type": "stream",
     "text": [
      "42\n"
     ]
    }
   ],
   "source": [
    "# Your Person class here:\n",
    "from datetime import date\n",
    "class Person:\n",
    "    \n",
    "    def __init__(self, name, surname, birthdate):\n",
    "        self.name = name\n",
    "        self.surname = surname\n",
    "        self.birthdate = birthdate\n",
    "    \n",
    "    def get_full_name(self):\n",
    "        return self.name + self.surname\n",
    "    \n",
    "    def get_birthdate(self):\n",
    "        pass\n",
    "    def get_age(self):\n",
    "        today = date.today()\n",
    "        born = self.birthdate\n",
    "        return today.year - born.year - ((today.month, today.day) < (born.month, born.day))\n",
    "\n",
    "\n",
    "\n",
    "            \n",
    "# Test code:\n",
    "\n",
    "#1.1\n",
    "p1 = Person(\"Anna\", \"Annasdotter\", date(1975, 4, 4))\n",
    "print(p1.get_age())\n",
    "\n",
    "# 1.2\n",
    "# p2 = Person(\"Sven\", \"Svensson\", date(1978, 5, 5))\n",
    "# print(p1.persons_created())\n",
    "# print(Person.persons_created())\n",
    "# pers = p1.get_persons()\n",
    "# print(pers)\n",
    "\n",
    "# 1.3\n",
    "# print(p1.get_id())"
   ]
  },
  {
   "cell_type": "markdown",
   "metadata": {},
   "source": [
    "### The Student and Employee classes\n",
    "\n",
    "#### 2.1\n",
    "Create two sub-classes of Person called Student and Employee. Both these should create an id at object creation and implement the `get_id` function. For Student, the id should consist of the first 3 letters in the given name and the first 2 letters in the surname and a __3__ digit random number. For Employee, the id should consist of the first 3 letters in the given name and the first 2 letters in the surname and a __2__ digit random number. All letters in id:s, regardless of type, should be lowercase. It is not necessary to implement uniqueness checks for id:s.\n",
    "\n",
    "#### 2.2\n",
    "Write code to inspect how many Persons have been created. Are you surprised by the result? Add code to Employee and Student to make sure these classes keep references to all created instances and to return the number of created Employees and Students respectively. Write suitable test code.\n",
    "\n",
    "#### 2.3\n",
    "Add an instance variable `program` to the Student class with suitable _get_- and _set_-functions. The variable should contain a string representing the program to which the student is registered.\n",
    "\n",
    "#### 2.4\n",
    "Add an instance variable `salary` to the Employee class with suitable _get_- and _set_-functions. The variable should contain a number representing the monthly salary of the employee."
   ]
  },
  {
   "cell_type": "code",
   "execution_count": null,
   "metadata": {},
   "outputs": [],
   "source": [
    "# Your class definitions here:\n",
    "\n",
    "\n",
    "    \n",
    "# 2.1\n",
    "# e1 = Employee(\"Anders\", \"Andersson\", date(1960, 1, 1))\n",
    "# print(e1.get_id())\n",
    "# print(e1.get_id())\n",
    "# s1 = Student(\"Peter\", \"Petersson\", date(1990, 2, 2))\n",
    "# print(s1.get_id())\n",
    "# print(s1.get_id())\n",
    "\n",
    "# Your test code for 2.2:\n",
    "pass\n",
    "\n",
    "# 2.3\n",
    "# s1 = Student(\"Peter\", \"Petersson\", date(1990, 2, 2), \"Statistics\")\n",
    "# print(s1.get_id())\n",
    "# print(s1.get_id())\n",
    "\n",
    "# 2.4\n",
    "# e1 = Employee(\"Anders\", \"Andersson\", date(1960, 1, 1), 40000)\n",
    "# print(e1.get_id())\n",
    "# print(e1.get_id())"
   ]
  },
  {
   "cell_type": "markdown",
   "metadata": {},
   "source": [
    "### The PhDStudent class\n",
    "\n",
    "### 3.1\n",
    "Implement a new class `PhDStudent` which inherits from __both__ Student and Employee. Can you make sure that `PhDStudent` gets an `Employee` type _id_?\n",
    "\n",
    "[Hint: Look up the concept of Method Resolution Order (MRO) in Python and how the `super` keyword behaves with multiple inheritance.]"
   ]
  },
  {
   "cell_type": "code",
   "execution_count": null,
   "metadata": {
    "scrolled": true
   },
   "outputs": [],
   "source": [
    "# Your PhDStudent class here:\n",
    "\n",
    "\n",
    "# Test code:\n",
    "# 3.1\n",
    "# phd1 = PhDStudent(\"Elin\", \"Elinsdotter\", date(1980,3,3), \"Machine Learning\", 30000)\n",
    "# print(Person.persons_created())\n",
    "# print(Employee.employees_created())\n",
    "# print(Student.students_created())\n",
    "# print(phd1.get_id())\n",
    "# print(phd1.get_salary())\n",
    "# print(phd1.get_program())"
   ]
  }
 ],
 "metadata": {
  "anaconda-cloud": {},
  "kernelspec": {
   "display_name": "Python 3",
   "language": "python",
   "name": "python3"
  },
  "language_info": {
   "codemirror_mode": {
    "name": "ipython",
    "version": 3
   },
   "file_extension": ".py",
   "mimetype": "text/x-python",
   "name": "python",
   "nbconvert_exporter": "python",
   "pygments_lexer": "ipython3",
   "version": "3.6.3"
  }
 },
 "nbformat": 4,
 "nbformat_minor": 2
}
