{
 "cells": [
  {
   "cell_type": "markdown",
   "metadata": {},
   "source": [
    "# Lab 2A: Programming Paradigms in Python - Functional Programming\n"
   ]
  },
  {
   "cell_type": "markdown",
   "metadata": {},
   "source": [
    "__Student:__ abcde123"
   ]
  },
  {
   "cell_type": "markdown",
   "metadata": {},
   "source": [
    "# Functional Programming"
   ]
  },
  {
   "cell_type": "markdown",
   "metadata": {},
   "source": [
    "Disclaimer: Functional programming in a language such as Python does not always lead to the fastest possible code and is often not considered the *pythonic* approach. However, functional programming is the basis for many concurrent systems (the MapReduce programming model many big data systems, e.g. Hadoop, rely on gets its name from the *map* and *reduce* functions mentioned below). Python is a multi-paradigmatic language, and functional programming is one of the paradigms one can use in the mix, to understand how and when to do this, it is necessary to do things in a non-*pythonic* way in order to cover the basics."
   ]
  },
  {
   "cell_type": "markdown",
   "metadata": {},
   "source": [
    "## General instructions\n",
    "\n",
    "In this lab there are some general rules you should keep in mind to make sure you are on the correct path in your solutions.\n",
    "\n",
    "#### Rules\n",
    "1. You are not allowed to use `while` or `for` statements.\n",
    "2. You are not allowed to use global variables (other than for functions defined in the global environment).\n",
    "3. Code stubs should be viewed as fixed, you are only allowed to add code, the only code you are allowed to change is `pass` statements, which you should remove.\n",
    "4. You should refrain from using the `list` datatype unless otherwise specified and instead use `tuple`. One of the strengths of functional programming is its focus on immutable data types (this is why functional programming and concurrency goes so well together).\n",
    "\n",
    "#### Advice\n",
    "1. Avoid local variables unless you are certain they are necessary, in most cases you won't need to use local variables. (altermatively, use local variables to your hearts content, but when your solution works, try to eliminate them, you should be able to eliminate most of them, over time, you might find that you don't need them.)"
   ]
  },
  {
   "cell_type": "markdown",
   "metadata": {},
   "source": [
    "## 1 Recursion\n",
    "\n",
    "Recursion is the main way of creating repeated operations in functional programming and consist of functions calling themselves, instead of using iterative constructs such as `while`- or `for`-loops which implicity require some kind of state. This is generally a more mathematical way of defining operations and many famous mathematical functions, such as the Fibonacci function, have a recursive definition, even though they usually can be implemented iteratively."
   ]
  },
  {
   "cell_type": "markdown",
   "metadata": {},
   "source": [
    "### 1.1 `triangle`\n",
    "\n",
    "Below, you find a traditional iterative implementation of the _triangle_ function (https://en.wikipedia.org/wiki/Triangular_number) and a function stub for a recursive version. Write code to implement the recursive version of `triangle`.\n",
    "\n",
    "[Note: Below, and in further code stubs, I use the `pass` statement. The pass statement is simply a non-action, it allows me to write a code stub without breaking syntax rules (a colon must be followed by a row with increased indentation).]<br>\n",
    "[Literature: LP section 4, especially chapter 16 and 19.]"
   ]
  },
  {
   "cell_type": "code",
   "execution_count": 4,
   "metadata": {},
   "outputs": [
    {
     "name": "stdout",
     "output_type": "stream",
     "text": [
      "15\n",
      "21\n"
     ]
    }
   ],
   "source": [
    "# Iterative version\n",
    "def triangleiter(n):\n",
    "    result = 0\n",
    "    for x in range(n+1):\n",
    "        result = result + x\n",
    "    return result\n",
    "\n",
    "# Recursive version\n",
    "def trianglerec(n):\n",
    "    if n == 1:\n",
    "        return 1\n",
    "    else:\n",
    "        return n + trianglerec(n-1) \n",
    "print(trianglerec(5))    \n",
    "print(triangleiter(5))"
   ]
  },
  {
   "cell_type": "markdown",
   "metadata": {},
   "source": [
    "### 1.2 `myflatten`\n",
    "\n",
    "One common use of recursion is to _flatten_ recursive data structures, such as nested lists or tuples. This is relatively simple with only one level of nesting, or when the structure follows a strict pattern, but for arbitrary nested sequences, a recursive approach is more natural. Implement a recursive function `myflatten` which can take an arbitrary structure of nested tuples and flattens it."
   ]
  },
  {
   "cell_type": "code",
   "execution_count": 5,
   "metadata": {
    "collapsed": true
   },
   "outputs": [],
   "source": [
    "def myflatten(l):\n",
    "    reif l == \n",
    "\n",
    "myflatten((1, (2), 3, (4, 5, (6), 7), 8))"
   ]
  },
  {
   "cell_type": "markdown",
   "metadata": {},
   "source": [
    "### 1.3 Maximum recursion depth?\n",
    "\n",
    "While Python is not a \"pure\" functional language like Haskell, or even a \"fully\" functional language like the Lisp family, it does implement a number of traditionally functional features. What it does lack however, is _Tail Call Optimization_ (_TCO_) which makes recursive algorithms much cheaper to run. Without going into too much detail, with _TCO_ the space complexity (how much of the computers memory we use) of simpler recursive algoritmhs is constant, which means we can theoretically recurse forever. However, without _TCO_, recursion has linear space complexity, which means that there is a limit to how many recursive calls we can make before we run out of memory even for simple algorithms. This means that one of the main features of functional programming, recursion, is not as useful in Python as in more functional languages.\n",
    "\n",
    "Even though Python is not as efficient at doing recursion, a basic understanding of recursive algorithms is good to have and helps one get into the functional mindset.\n",
    "\n",
    "Now that you have a recursive version of triangle, we are going to break it. First, run the code in the box below"
   ]
  },
  {
   "cell_type": "code",
   "execution_count": 7,
   "metadata": {},
   "outputs": [
    {
     "name": "stdout",
     "output_type": "stream",
     "text": [
      "50005000\n"
     ]
    },
    {
     "ename": "RecursionError",
     "evalue": "maximum recursion depth exceeded in comparison",
     "output_type": "error",
     "traceback": [
      "\u001b[1;31m---------------------------------------------------------------------------\u001b[0m",
      "\u001b[1;31mRecursionError\u001b[0m                            Traceback (most recent call last)",
      "\u001b[1;32m<ipython-input-7-8191b2cda794>\u001b[0m in \u001b[0;36m<module>\u001b[1;34m()\u001b[0m\n\u001b[0;32m      1\u001b[0m \u001b[0mprint\u001b[0m\u001b[1;33m(\u001b[0m\u001b[0mtriangleiter\u001b[0m\u001b[1;33m(\u001b[0m\u001b[1;36m10000\u001b[0m\u001b[1;33m)\u001b[0m\u001b[1;33m)\u001b[0m\u001b[1;33m\u001b[0m\u001b[0m\n\u001b[1;32m----> 2\u001b[1;33m \u001b[0mprint\u001b[0m\u001b[1;33m(\u001b[0m\u001b[0mtrianglerec\u001b[0m\u001b[1;33m(\u001b[0m\u001b[1;36m10000\u001b[0m\u001b[1;33m)\u001b[0m\u001b[1;33m)\u001b[0m\u001b[1;33m\u001b[0m\u001b[0m\n\u001b[0m",
      "\u001b[1;32m<ipython-input-4-fd6501306f69>\u001b[0m in \u001b[0;36mtrianglerec\u001b[1;34m(n)\u001b[0m\n\u001b[0;32m     11\u001b[0m         \u001b[1;32mreturn\u001b[0m \u001b[1;36m1\u001b[0m\u001b[1;33m\u001b[0m\u001b[0m\n\u001b[0;32m     12\u001b[0m     \u001b[1;32melse\u001b[0m\u001b[1;33m:\u001b[0m\u001b[1;33m\u001b[0m\u001b[0m\n\u001b[1;32m---> 13\u001b[1;33m         \u001b[1;32mreturn\u001b[0m \u001b[0mn\u001b[0m \u001b[1;33m+\u001b[0m \u001b[0mtrianglerec\u001b[0m\u001b[1;33m(\u001b[0m\u001b[0mn\u001b[0m\u001b[1;33m-\u001b[0m\u001b[1;36m1\u001b[0m\u001b[1;33m)\u001b[0m\u001b[1;33m\u001b[0m\u001b[0m\n\u001b[0m\u001b[0;32m     14\u001b[0m \u001b[0mprint\u001b[0m\u001b[1;33m(\u001b[0m\u001b[0mtrianglerec\u001b[0m\u001b[1;33m(\u001b[0m\u001b[1;36m6\u001b[0m\u001b[1;33m)\u001b[0m\u001b[1;33m)\u001b[0m\u001b[1;33m\u001b[0m\u001b[0m\n",
      "... last 1 frames repeated, from the frame below ...\n",
      "\u001b[1;32m<ipython-input-4-fd6501306f69>\u001b[0m in \u001b[0;36mtrianglerec\u001b[1;34m(n)\u001b[0m\n\u001b[0;32m     11\u001b[0m         \u001b[1;32mreturn\u001b[0m \u001b[1;36m1\u001b[0m\u001b[1;33m\u001b[0m\u001b[0m\n\u001b[0;32m     12\u001b[0m     \u001b[1;32melse\u001b[0m\u001b[1;33m:\u001b[0m\u001b[1;33m\u001b[0m\u001b[0m\n\u001b[1;32m---> 13\u001b[1;33m         \u001b[1;32mreturn\u001b[0m \u001b[0mn\u001b[0m \u001b[1;33m+\u001b[0m \u001b[0mtrianglerec\u001b[0m\u001b[1;33m(\u001b[0m\u001b[0mn\u001b[0m\u001b[1;33m-\u001b[0m\u001b[1;36m1\u001b[0m\u001b[1;33m)\u001b[0m\u001b[1;33m\u001b[0m\u001b[0m\n\u001b[0m\u001b[0;32m     14\u001b[0m \u001b[0mprint\u001b[0m\u001b[1;33m(\u001b[0m\u001b[0mtrianglerec\u001b[0m\u001b[1;33m(\u001b[0m\u001b[1;36m6\u001b[0m\u001b[1;33m)\u001b[0m\u001b[1;33m)\u001b[0m\u001b[1;33m\u001b[0m\u001b[0m\n",
      "\u001b[1;31mRecursionError\u001b[0m: maximum recursion depth exceeded in comparison"
     ]
    }
   ],
   "source": [
    "print(triangleiter(10000))\n",
    "print(trianglerec(10000))"
   ]
  },
  {
   "cell_type": "markdown",
   "metadata": {},
   "source": [
    "As you can see, we get a `RuntimeError` (or `RecursionError` in Python versions 3.5 and later), which tells us that \"maximum recursion depth exceeded...\". This means that we have reached that limit mentioned above, we have run out of memory (or rather, Python has capped the number of recursive calls we can make, in order to NOT run out of memory). But how deep can we go?"
   ]
  },
  {
   "cell_type": "markdown",
   "metadata": {},
   "source": [
    "In this case, the largest possible input to `trianglerec` should be equivalent to the maximum recursion depth. There is an easiy way to compute the maximum recursion depth, using a single recursive function and exception handling. Create such a function below and run it to find the maximum recursion depth. Try it as input to `trianglerec`, does it work? Try the next larger number, does that work?"
   ]
  },
  {
   "cell_type": "code",
   "execution_count": null,
   "metadata": {
    "collapsed": true
   },
   "outputs": [],
   "source": [
    "# Write test_recursion_depth here:\n",
    "\n",
    "\n",
    "test_recursion_depth()"
   ]
  },
  {
   "cell_type": "markdown",
   "metadata": {},
   "source": [
    "## 2 Higher-order functions and anonymous functions\n",
    "\n",
    "A _higher-order function_ is a function which operates on other functions. What this means exactly is disputed, one definition is that a higher-order function must itself return a function, another definition is that a higher-order function must take another function as input. We will play fast and loose with the definition and call any function which does either or both of these a higher-order function. (Conversely, a function neither taking another function as input nor returning a function we will refer to as a _first-order function_) In R you have encountered these when, for instance, using the `apply` family of functions, which are all versions of what is called a `map` function in functional programming (see below).\n",
    "\n",
    "When using higher-order functions, it is often useful to create simple anonymous functions at the place in the code where they are used, rather than defining a new named function in one place only to call it in a single other place. In R, all functions are created in this way with the `function` keyword, but they are usually assigned to global names with standard assignment (`<-`). Python provides similar functionality using the `lambda` keyword (name inspired by Alonzo Church's $\\lambda$-calculus which has inspired much of functional programming) with which we can create anonymous functions. Of course, we can also pass named functions to higher-order functions, which is usually the case when the function is predefined, general enough to be used in more than one place, or complex enough to warrant separate definition and documentation for the sake of clarity."
   ]
  },
  {
   "cell_type": "markdown",
   "metadata": {},
   "source": [
    "### Standard higher-order functions: map, filter, reduce\n",
    "\n",
    "There are three standard cases which are widely applicable and many other higher-order functions are special cases or combinations of these. They are: `map`, apply a function on each element in a sequence, `filter`, keep (or conversely, remove) elements from a sequence according to some condition, and `reduce`, combine the elements in a sequence. The `map` function takes a sequence and a function (usually of 1 parameter) which is to be applied to each element of the sequence and might return anything, this function is assumed not to have side effects. The `filter` function takes a function (usually of 1 parameter) which returns a boolean value used to indicate which elements are to be kept. The `reduce` function takes a function (usually of 2 parameters) which is used to combine the elements in the sequence.\n",
    "\n",
    "In Python, `map` and `filter` are standard functions, available in the global environment. However, since Python 3, the `reduce` function has been moved to the built-in `functools` module and needs to be imported before we can use it.\n",
    "\n",
    "Many more advanced functions, of any order, can be created by combining these three higher-order functions.\n",
    "\n",
    "Usually, the `reduce` function is more difficult to grasp than `map` and `filter` but I found this blog-post by André Burgaud to be a nice introduction to `reduce`. Note that Burgaud talks about the more general _fold_ concept rather than `reduce`, which is a special case of fold often called _left fold_ (this is covered in more detail in the post). https://www.burgaud.com/foldl-foldr-python/"
   ]
  },
  {
   "cell_type": "markdown",
   "metadata": {},
   "source": [
    "### 2.1 `mysum`\n",
    "\n",
    "Implement a function `mysum` which computes the sum of a list or tuple of numbers using the reduce function and a lambda function."
   ]
  },
  {
   "cell_type": "code",
   "execution_count": 6,
   "metadata": {},
   "outputs": [
    {
     "data": {
      "text/plain": [
       "12"
      ]
     },
     "execution_count": 6,
     "metadata": {},
     "output_type": "execute_result"
    }
   ],
   "source": [
    "from functools import reduce\n",
    "\n",
    "def mysum(l):\n",
    "    return reduce(lambda x,y: x + y, l)\n",
    "\n",
    "mysum((4, 7, 1))"
   ]
  },
  {
   "cell_type": "markdown",
   "metadata": {},
   "source": [
    "### 2.2 `mylength`\n",
    "\n",
    "Implement a function `mylength` which uses `map` and `reduce` to compute the length of a sequence. The use of the `len` function is not allowed.\n",
    "\n",
    "[Hint: Use `map` to convert the input to something which can easily be `reduce`:d.]"
   ]
  },
  {
   "cell_type": "code",
   "execution_count": 7,
   "metadata": {},
   "outputs": [
    {
     "name": "stdout",
     "output_type": "stream",
     "text": [
      "5\n",
      "4\n"
     ]
    }
   ],
   "source": [
    "def mylength(l):\n",
    "    b= list(map(lambda x: 1,l))\n",
    "    return reduce(lambda x,y: x+y, b)        \n",
    "    \n",
    "print(mylength((4, 2, 5, 2, 5)))\n",
    "print(mylength(\"test\"))"
   ]
  },
  {
   "cell_type": "markdown",
   "metadata": {},
   "source": [
    "### 2.3 mylength2\n",
    "\n",
    "Implement a function `mylength` which uses only `reduce` to compute the length of a sequence using the optional third parameter to supply an initial value to `reduce`."
   ]
  },
  {
   "cell_type": "code",
   "execution_count": 8,
   "metadata": {},
   "outputs": [
    {
     "name": "stdout",
     "output_type": "stream",
     "text": [
      "5\n",
      "4\n"
     ]
    }
   ],
   "source": [
    "def mylength2(l):\n",
    "    return reduce(lambda x, y: x+1, l ,0)\n",
    "\n",
    "print(mylength2((4, 2, 5, 2, 5)))\n",
    "print(mylength2(\"test\"))"
   ]
  },
  {
   "cell_type": "markdown",
   "metadata": {},
   "source": [
    "### 2.4 mysieve\n",
    "\n",
    "A very well known algorithm for finding prime numbers is the Sieve of Eratosthenes. This algorithm works by filtering  out all non-prime numbers up to some predefined $n$. Use the skeleton code below and write a recursive `inner` function using `filter` to find the prime numbers up to `n`.\n",
    "\n",
    "[Note: In Python, the `filter` function returns a type of generator, if you want to convert this to a tuple, simply use `tuple(filter(...))`.]<br>\n",
    "[Hint: Each call to `inner` should filter out the numbers divisible by the first element in `l`.]"
   ]
  },
  {
   "cell_type": "code",
   "execution_count": 10,
   "metadata": {},
   "outputs": [
    {
     "data": {
      "text/plain": [
       "[2,\n",
       " 3,\n",
       " 5,\n",
       " 7,\n",
       " 11,\n",
       " 13,\n",
       " 17,\n",
       " 19,\n",
       " 23,\n",
       " 29,\n",
       " 31,\n",
       " 37,\n",
       " 41,\n",
       " 43,\n",
       " 47,\n",
       " 53,\n",
       " 59,\n",
       " 61,\n",
       " 67,\n",
       " 71,\n",
       " 73,\n",
       " 79,\n",
       " 83,\n",
       " 89,\n",
       " 97]"
      ]
     },
     "execution_count": 10,
     "metadata": {},
     "output_type": "execute_result"
    }
   ],
   "source": [
    "def mysieve(n):\n",
    "    def inner(l):\n",
    "        if(len(l)>1):\n",
    "            return [int(l[0])]+inner(tuple(filter(lambda x: x % l[0] != 0,l)))\n",
    "        else:\n",
    "            return [int(l[0])]\n",
    "    return inner(tuple(range(2, n+1)))    \n",
    "mysieve(100)"
   ]
  },
  {
   "cell_type": "code",
   "execution_count": 45,
   "metadata": {},
   "outputs": [
    {
     "ename": "TypeError",
     "evalue": "unsupported operand type(s) for %: 'int' and 'tuple'",
     "output_type": "error",
     "traceback": [
      "\u001b[1;31m---------------------------------------------------------------------------\u001b[0m",
      "\u001b[1;31mTypeError\u001b[0m                                 Traceback (most recent call last)",
      "\u001b[1;32m<ipython-input-45-dc20e9e9a868>\u001b[0m in \u001b[0;36m<module>\u001b[1;34m()\u001b[0m\n\u001b[1;32m----> 1\u001b[1;33m \u001b[1;36m5\u001b[0m\u001b[1;33m%\u001b[0m \u001b[1;33m(\u001b[0m\u001b[1;36m2\u001b[0m\u001b[1;33m,\u001b[0m\u001b[1;36m3\u001b[0m\u001b[1;33m,\u001b[0m\u001b[1;36m4\u001b[0m\u001b[1;33m)\u001b[0m\u001b[1;33m\u001b[0m\u001b[0m\n\u001b[0m",
      "\u001b[1;31mTypeError\u001b[0m: unsupported operand type(s) for %: 'int' and 'tuple'"
     ]
    }
   ],
   "source": []
  },
  {
   "cell_type": "markdown",
   "metadata": {},
   "source": [
    "### Comprehensions\n",
    "\n",
    "One popular feature in many functional programming languages is comprehensions, which we already covered in the first lab. However, comprehensions are definitely a part of the functional side of Python, oh, and they are considered *Pythonic* as well as being very fast.\n",
    "\n",
    "Comprehensions can be used to simulate the behavior of `map` and `filter` (though not the behavior of `reduce`)."
   ]
  },
  {
   "cell_type": "markdown",
   "metadata": {},
   "source": [
    "### 2.5 mysieve2\n",
    "\n",
    "Reimplement the `mysieve` function using a comprehension instead of `filter`."
   ]
  },
  {
   "cell_type": "code",
   "execution_count": null,
   "metadata": {
    "collapsed": true
   },
   "outputs": [],
   "source": [
    "def mysieve2(n):\n",
    "    def inner(l):\n",
    "        pass\n",
    "    return inner(tuple(range(2, n+1)))\n",
    "mysieve2(100)"
   ]
  },
  {
   "cell_type": "markdown",
   "metadata": {},
   "source": [
    "## 3 Building your own higher order functions"
   ]
  },
  {
   "cell_type": "markdown",
   "metadata": {},
   "source": [
    "### 3.1 Reimplementing map, filter and reduce\n",
    "\n",
    "Re-implement the three basic functional helper functions `map`, `filter` and `reduce` as recursive functions. Note that the built-in versions of these functions work on multiple sequences of equal length if supplied, however, you can assume a single sequence as second parameter, i.e. you can also skip the third parameter to reduce."
   ]
  },
  {
   "cell_type": "code",
   "execution_count": null,
   "metadata": {
    "collapsed": true
   },
   "outputs": [],
   "source": [
    "def mymap(fun, l):\n",
    "    pass\n",
    "\n",
    "mymap(lambda x:x**2, tuple(range(10)))"
   ]
  },
  {
   "cell_type": "code",
   "execution_count": null,
   "metadata": {
    "collapsed": true
   },
   "outputs": [],
   "source": [
    "def myfilter(fun, l):\n",
    "    pass\n",
    "\n",
    "myfilter(lambda x:x%2==0, tuple(range(10)))"
   ]
  },
  {
   "cell_type": "code",
   "execution_count": null,
   "metadata": {
    "collapsed": true
   },
   "outputs": [],
   "source": [
    "def myreduce(fun, l):\n",
    "    pass\n",
    "\n",
    "myreduce(lambda x, y: x*y, tuple(range(1,5)))"
   ]
  },
  {
   "cell_type": "markdown",
   "metadata": {},
   "source": [
    "##  4 Returning functions\n",
    "\n",
    "The previous section covered functions which take other functions as input, but what about the opposite, functions returning functions as output?"
   ]
  },
  {
   "cell_type": "markdown",
   "metadata": {},
   "source": [
    "### 4.1 myidentity\n",
    "\n",
    "This might seem like a trivial example but serves as a nice entry point into returning functions. Create a function `myidentity` wich takes a single input. When called `myidentity` should return a function which, when itself called, regardless of inputs, produces the original input to `myidentity`. This is useful for when we need to pass a function to a higher order function but want it only to produce a constant value, for instance the function passed to `map` when we implemented `mylength` above.\n",
    "\n",
    "That the returned function should take arbitrary inputs means that we need to use the special \\* and \\*\\* parameters, most often seen as `*args` and `**kwargs`. These are used to handle arbitrary numbers of unnamed or named arguments to functions. These are either used when a function might itself take an arbitrary number of inputs or when we want to pass along arguments from a higher order function to a concrete function."
   ]
  },
  {
   "cell_type": "code",
   "execution_count": null,
   "metadata": {
    "collapsed": true
   },
   "outputs": [],
   "source": [
    "def myidentity(x):\n",
    "    pass\n",
    "\n",
    "one = myidentity(1)\n",
    "print(one)\n",
    "print(one(1,3,5, param2=\"a string\", param3=[1, 2, 4]))"
   ]
  },
  {
   "cell_type": "markdown",
   "metadata": {},
   "source": [
    "### 4.2 mycomposite\n",
    "\n",
    "Function composition is a common in both math and programming. Write a function `mycomposite` which takes two functions, $a$ and $b$, and produces the _composite_ function $a \\circ b$, where $(a \\circ b)(x) \\Leftrightarrow a(b(x))$. Example use is given below."
   ]
  },
  {
   "cell_type": "code",
   "execution_count": null,
   "metadata": {
    "collapsed": true
   },
   "outputs": [],
   "source": [
    "from statistics import stdev, mean\n",
    "\n",
    "def mycomposite(a, b):\n",
    "    pass\n",
    "\n",
    "def myscale(l):\n",
    "    return [x/stdev(l) for x in l]\n",
    "\n",
    "def myshift(l):\n",
    "    return [x-mean(l) for x in l]\n",
    "\n",
    "standardize = mycomposite(myscale, myshift)\n",
    "\n",
    "print(standardize(range(-3, 8)))"
   ]
  },
  {
   "cell_type": "markdown",
   "metadata": {},
   "source": [
    "### 4.3 The pipeline function\n",
    "\n",
    "When doing data analysis, one very important part is pre-processing. Often, data goes through a number of steps of preprocessing, sometimes called a pipeline. The function composition example above can be seen as a special case of such a pipeline for only two functions. By clever use of higher order functions, we can build a pipeline function which takes a list or tuple of data transforming functions and creates a function which applies these sequentially. Construct such a function called `make_pipeline`. In order to focus on the primary purpose of the `make_pipeline` function, we will perform a very simple set of transformations, increment each value by 1, take the absolute value, and then take the square root. Usage example and code for the `inc` function is supplied below."
   ]
  },
  {
   "cell_type": "code",
   "execution_count": null,
   "metadata": {
    "collapsed": true,
    "scrolled": true
   },
   "outputs": [],
   "source": [
    "def make_pipeline(*funs):\n",
    "    pass\n",
    "\n",
    "def inc(x):\n",
    "    return x+1\n",
    "\n",
    "pipeline = make_pipeline(inc, abs, sqrt)\n",
    "\n",
    "tuple(pipeline(range(-5,5)))"
   ]
  },
  {
   "cell_type": "markdown",
   "metadata": {},
   "source": [
    "### 4.4 mypartial (Updated 2018-02-06)\n",
    "\n",
    "One of the main arguments for functional programming is the lack of state. However, sometimes we need to be able to set some constants without passing around enormous sets of inputs to functions. One approach to this is the `partial` function in the `functools` module. The `partial` function takes a function and an arbitrary number of named arguments and returns a function with those arguments bound to the corresponding named parameters of the function, i.e. creating a function of fewer parameters. Implement your own version of the `partial` function.\n",
    "\n",
    "[Note: In this case, you will have one dictionary of named  parameters(\\*\\*-parameters) for the `mypartial` function and one tuple of unnamed parameters (\\*-parameters) and one dictionary of named  parameters(\\*\\*-parameters) for the the function you will return. Note that the \\*\\*-dictionaries cannot share the same name.]"
   ]
  },
  {
   "cell_type": "code",
   "execution_count": null,
   "metadata": {
    "collapsed": true
   },
   "outputs": [],
   "source": [
    "def add(a, b):\n",
    "    return a + b\n",
    "\n",
    "def mypartial(func, **part_kwargs):\n",
    "    pass\n",
    "\n",
    "add3 = mypartial(add, b = 3)\n",
    "\n",
    "add3(10)"
   ]
  },
  {
   "cell_type": "markdown",
   "metadata": {},
   "source": [
    "## 5 Closures, returning functions with state\n",
    "\n",
    "When a function is created it always has access to the environment in which it was created. Usually, this means that the function can access variables in the global environment. However, whenever a function is created inside another function, it has access to the environment of the function in which it is created. To access such variables, they have to be declared, in the inner function, using the `nonlocal` keyword. If we return this inner function, we have created a _closure_.\n",
    "\n",
    "A closure is a function which has access to an environment, not accessible from outside the function, but which is not destroyed when the function returns. I.e. it is a way to introduce a small measure of statefulness into functional programming. In Python, iterators and generators work much like this. However, we can use the general concept in many cases."
   ]
  },
  {
   "cell_type": "markdown",
   "metadata": {},
   "source": [
    "### 5.1 make_counter\n",
    "\n",
    "Implement a function `make_counter` which has a single parameter `n` which acts as the initial value for a counter. The function should return a function with no parameters which, when called, increments the value of `n` by 1 and returns the new value."
   ]
  },
  {
   "cell_type": "code",
   "execution_count": null,
   "metadata": {
    "collapsed": true
   },
   "outputs": [],
   "source": [
    "def make_counter(n):\n",
    "    pass\n",
    "\n",
    "c = make_counter(0)\n",
    "print(c())\n",
    "print(c())\n",
    "print(c())\n",
    "print(c())\n",
    "print(c())"
   ]
  },
  {
   "cell_type": "markdown",
   "metadata": {},
   "source": [
    "### 5.2 Message passing: `make_counter2`\n",
    "\n",
    "Often, it is beneficial to be able to inspect the state of a closure without changing that state or be able to change that state in more than one way. This can be achieved using _message passing_, i.e. letting the closure take one or more arguments which controls its behavior when called.\n",
    "\n",
    "Implement a function `make_counter2` which has a single parameter `n` which acts as the initial value for a counter. The function should return a function which takes a single argument `message`. The `message` should be one of the strings \"increment\" or \"decrement\". On \"increment\" the value of `n` should increase by 1 and be returned, on \"decrement\" the value of `n`should decrease by 1 and be returned, for any other message (or no message) the value of `n` should be returned.\n",
    "\n",
    "[Note: You need to use a default value for the `message` parameter so that the counter can be called without argument to return the current value of `n`.]"
   ]
  },
  {
   "cell_type": "code",
   "execution_count": null,
   "metadata": {
    "collapsed": true
   },
   "outputs": [],
   "source": [
    "def make_counter2(n):\n",
    "    pass\n",
    "\n",
    "c = make_counter2(0)\n",
    "print(c())\n",
    "print(c(\"increment\"))\n",
    "print(c(\"increment\"))\n",
    "print(c(\"increment\"))\n",
    "print(c(\"decrement\"))\n",
    "print(c())"
   ]
  },
  {
   "cell_type": "markdown",
   "metadata": {},
   "source": [
    "## 6 Practical applications: Quicksort\n",
    "\n",
    "### 6.1 Basic Quicksort (Updated 2018-05-06)\n",
    "\n",
    "One of the most famous recursive functions is the Quicksort function (https://en.wikipedia.org/wiki/Quicksort). It allows us to sort a sequence, with repeated values, in log-linear time and with a logarithmic number of recursive calls. We will start by implementing Quicksort for a tuple of numbers.\n",
    "\n",
    "You should note that Wikipedia illustrates a more advanced _in-place_ version of Quicksort. This means that the partition function is more advanced and that the quicksort function has 3 parameters instead of 1. For the purposes of this assignment you can simply pass a new tuple to each recursive call to quicksort (i.e. you can use _filter_ or a comprehension to create the inputs)."
   ]
  },
  {
   "cell_type": "code",
   "execution_count": null,
   "metadata": {
    "collapsed": true
   },
   "outputs": [],
   "source": [
    "from random import sample, choice\n",
    "\n",
    "# Write quicksort here:\n",
    "\n",
    "\n",
    "a = tuple(sample(range(1000), 1000))\n",
    "print(a)\n",
    "b = quicksort(a)\n",
    "print(b)"
   ]
  },
  {
   "cell_type": "markdown",
   "metadata": {},
   "source": [
    "### 6.2 Quicksort as a higher order function\n",
    "\n",
    "The version of quicksort implemented above should only work on simpler types of data. However, what if we wanted to change the sort from ascending to descending, or we wanted to sort a tuple of objects where Python itself does not know how to compare object A and object B? To add this functionality, we can pass another argument to Quicksort which is applied to each element to compute a value on which it can be sorted. With the same function, only using different key-functions supplied, you should be able to sort a tuple descending, and sort a tuple of tuples of numbers on the sum of each tuple of numbers.\n",
    "\n",
    "[Hint: To generate test data for the second case, you can use a tuple comprehension within a tuple comprehension together with the random module.]"
   ]
  },
  {
   "cell_type": "code",
   "execution_count": null,
   "metadata": {
    "collapsed": true
   },
   "outputs": [],
   "source": [
    "from random import random\n",
    "\n",
    "# Write quicksort2 here:\n",
    "\n",
    "\n",
    "a = tuple(tuple(random() for i in range(3)) for j in range(10))\n",
    "print(a)\n",
    "b = quicksort2(a, sum)\n",
    "print(b)"
   ]
  },
  {
   "cell_type": "markdown",
   "metadata": {},
   "source": [
    "### 6.3 Quicksort as a higher order function with unknown arguments\n",
    "\n",
    "The version of Quicksort above only works with functions which takes no arguments but the object being compared. However, a higher order function can be made to pass along unnamed or named arguments using \\*args or \\*\\*kwargs. Below you find a function implementing the probability density function for the Gaussian distribution, taking an observation x, as well as the location and scale for the distribution at hand, and computes the density at x.\n",
    "\n",
    "We would now like to sort a tuple of observations on their corresponding density on the standard normal distribution. To do this, it is not enough to only pass `gausspdf` to quicksort but we also need to pass the values for `loc` and `scale`."
   ]
  },
  {
   "cell_type": "code",
   "execution_count": null,
   "metadata": {
    "collapsed": true
   },
   "outputs": [],
   "source": [
    "from math import exp, sqrt, pi\n",
    "from random import uniform\n",
    "\n",
    "def gausspdf(x, loc, scale):\n",
    "    return (exp(-((x - loc) / scale)**2/2)/sqrt(2*pi))/scale\n",
    "\n",
    "# Write quicksort3 here:\n",
    "    \n",
    "    \n",
    "a = tuple(uniform(-1,1) for i in range(10))\n",
    "print(a)\n",
    "b = quicksort3(a, gausspdf, loc=0, scale=1)\n",
    "print(b)"
   ]
  },
  {
   "cell_type": "markdown",
   "metadata": {},
   "source": [
    "Of course, in many cases we could use `partial` to the same effect."
   ]
  },
  {
   "cell_type": "markdown",
   "metadata": {},
   "source": [
    "### 6.4 Quicksort for any type of sequence\n",
    "\n",
    "All versions of quicksort above works with the tuple data type, but what if we wanted the return type to be a list, or a custom sequence type? Well, create a version of quicksort which adds a parameter which is used to supply a function which controls the type of the returned and sorted sequence.\n",
    "\n",
    "[Bonus: Create a version which does not take an extra argument but simply uses the supplied sequence type.]"
   ]
  },
  {
   "cell_type": "code",
   "execution_count": null,
   "metadata": {
    "collapsed": true
   },
   "outputs": [],
   "source": [
    "from math import exp, sqrt, pi\n",
    "from random import uniform\n",
    "\n",
    "def gausspdf(x, loc, scale):\n",
    "    return (exp(-((x - loc) / scale)**2/2)/sqrt(2*pi))/scale\n",
    "\n",
    "# Write quicksort4 here:\n",
    "\n",
    "\n",
    "a = tuple(uniform(-1,1) for i in range(10))\n",
    "print(a)\n",
    "b = quicksort4(a, tuple, key=gausspdf, loc=0, scale=1)\n",
    "print(b)\n",
    "\n",
    "a = [uniform(-1,1) for i in range(10)]\n",
    "print(a)\n",
    "b = quicksort4(a, list, key=gausspdf, loc=0, scale=1)\n",
    "print(b)"
   ]
  }
 ],
 "metadata": {
  "kernelspec": {
   "display_name": "Python 3",
   "language": "python",
   "name": "python3"
  },
  "language_info": {
   "codemirror_mode": {
    "name": "ipython",
    "version": 3
   },
   "file_extension": ".py",
   "mimetype": "text/x-python",
   "name": "python",
   "nbconvert_exporter": "python",
   "pygments_lexer": "ipython3",
   "version": "3.6.3"
  }
 },
 "nbformat": 4,
 "nbformat_minor": 2
}
