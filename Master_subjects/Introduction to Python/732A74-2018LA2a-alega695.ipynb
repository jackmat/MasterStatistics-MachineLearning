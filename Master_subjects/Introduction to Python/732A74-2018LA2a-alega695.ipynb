{
 "cells": [
  {
   "cell_type": "markdown",
   "metadata": {},
   "source": [
    "# Lab 2A: Programming Paradigms in Python - Functional Programming\n"
   ]
  },
  {
   "cell_type": "markdown",
   "metadata": {},
   "source": [
    "__Student:__ abcde123"
   ]
  },
  {
   "cell_type": "markdown",
   "metadata": {},
   "source": [
    "# Functional Programming"
   ]
  },
  {
   "cell_type": "markdown",
   "metadata": {},
   "source": [
    "Disclaimer: Functional programming in a language such as Python does not always lead to the fastest possible code and is often not considered the *pythonic* approach. However, functional programming is the basis for many concurrent systems (the MapReduce programming model many big data systems, e.g. Hadoop, rely on gets its name from the *map* and *reduce* functions mentioned below). Python is a multi-paradigmatic language, and functional programming is one of the paradigms one can use in the mix, to understand how and when to do this, it is necessary to do things in a non-*pythonic* way in order to cover the basics."
   ]
  },
  {
   "cell_type": "markdown",
   "metadata": {},
   "source": [
    "## General instructions\n",
    "\n",
    "In this lab there are some general rules you should keep in mind to make sure you are on the correct path in your solutions.\n",
    "\n",
    "#### Rules\n",
    "1. You are not allowed to use `while` or `for` statements.\n",
    "2. You are not allowed to use global variables (other than for functions defined in the global environment).\n",
    "3. Code stubs should be viewed as fixed, you are only allowed to add code, the only code you are allowed to change is `pass` statements, which you should remove.\n",
    "4. You should refrain from using the `list` datatype unless otherwise specified and instead use `tuple`. One of the strengths of functional programming is its focus on immutable data types (this is why functional programming and concurrency goes so well together).\n",
    "\n",
    "#### Advice\n",
    "1. Avoid local variables unless you are certain they are necessary, in most cases you won't need to use local variables. (altermatively, use local variables to your hearts content, but when your solution works, try to eliminate them, you should be able to eliminate most of them, over time, you might find that you don't need them.)"
   ]
  },
  {
   "cell_type": "markdown",
   "metadata": {},
   "source": [
    "## 1 Recursion\n",
    "\n",
    "Recursion is the main way of creating repeated operations in functional programming and consist of functions calling themselves, instead of using iterative constructs such as `while`- or `for`-loops which implicity require some kind of state. This is generally a more mathematical way of defining operations and many famous mathematical functions, such as the Fibonacci function, have a recursive definition, even though they usually can be implemented iteratively."
   ]
  },
  {
   "cell_type": "markdown",
   "metadata": {},
   "source": [
    "### 1.1 `triangle`\n",
    "\n",
    "Below, you find a traditional iterative implementation of the _triangle_ function (https://en.wikipedia.org/wiki/Triangular_number) and a function stub for a recursive version. Write code to implement the recursive version of `triangle`.\n",
    "\n",
    "[Note: Below, and in further code stubs, I use the `pass` statement. The pass statement is simply a non-action, it allows me to write a code stub without breaking syntax rules (a colon must be followed by a row with increased indentation).]<br>\n",
    "[Literature: LP section 4, especially chapter 16 and 19.]"
   ]
  },
  {
   "cell_type": "code",
   "execution_count": 4,
   "metadata": {},
   "outputs": [
    {
     "name": "stdout",
     "output_type": "stream",
     "text": [
      "15\n",
      "15\n"
     ]
    }
   ],
   "source": [
    "# Iterative version\n",
    "def triangleiter(n):\n",
    "    result = 0\n",
    "    for x in range(n+1):\n",
    "        result = result + x\n",
    "    return result\n",
    "\n",
    "# Recursive version\n",
    "def trianglerec(n):\n",
    "    if n == 0:\n",
    "        return 0\n",
    "    else:\n",
    "        return n+trianglerec(n-1)\n",
    "\n",
    "n = 5\n",
    "print(triangleiter(n))\n",
    "print(trianglerec(n))"
   ]
  },
  {
   "cell_type": "markdown",
   "metadata": {},
   "source": [
    "### 1.2 `myflatten`\n",
    "\n",
    "One common use of recursion is to _flatten_ recursive data structures, such as nested lists or tuples. This is relatively simple with only one level of nesting, or when the structure follows a strict pattern, but for arbitrary nested sequences, a recursive approach is more natural. Implement a recursive function `myflatten` which can take an arbitrary structure of nested tuples and flattens it."
   ]
  },
  {
   "cell_type": "code",
   "execution_count": 2,
   "metadata": {},
   "outputs": [
    {
     "data": {
      "text/plain": [
       "[1, 2, 3, 4, 5, 6, 7, 8]"
      ]
     },
     "execution_count": 2,
     "metadata": {},
     "output_type": "execute_result"
    }
   ],
   "source": [
    "from functools import reduce\n",
    "\n",
    "def myflatten(l):\n",
    "        return reduce(lambda a,b: a + (myflatten(b) if hasattr(b, '__iter__') else [b]), l, [])\n",
    "\n",
    "   \n",
    "\n",
    "myflatten((1, (2), 3, (4, 5, (6), 7), 8))"
   ]
  },
  {
   "cell_type": "markdown",
   "metadata": {},
   "source": [
    "### 1.3 Maximum recursion depth?\n",
    "\n",
    "While Python is not a \"pure\" functional language like Haskell, or even a \"fully\" functional language like the Lisp family, it does implement a number of traditionally functional features. What it does lack however, is _Tail Call Optimization_ (_TCO_) which makes recursive algorithms much cheaper to run. Without going into too much detail, with _TCO_ the space complexity (how much of the computers memory we use) of simpler recursive algoritmhs is constant, which means we can theoretically recurse forever. However, without _TCO_, recursion has linear space complexity, which means that there is a limit to how many recursive calls we can make before we run out of memory even for simple algorithms. This means that one of the main features of functional programming, recursion, is not as useful in Python as in more functional languages.\n",
    "\n",
    "Even though Python is not as efficient at doing recursion, a basic understanding of recursive algorithms is good to have and helps one get into the functional mindset.\n",
    "\n",
    "Now that you have a recursive version of triangle, we are going to break it. First, run the code in the box below"
   ]
  },
  {
   "cell_type": "code",
   "execution_count": null,
   "metadata": {},
   "outputs": [],
   "source": [
    "print(triangleiter(10000))\n",
    "print(trianglerec(10000))"
   ]
  },
  {
   "cell_type": "markdown",
   "metadata": {},
   "source": [
    "As you can see, we get a `RuntimeError` (or `RecursionError` in Python versions 3.5 and later), which tells us that \"maximum recursion depth exceeded...\". This means that we have reached that limit mentioned above, we have run out of memory (or rather, Python has capped the number of recursive calls we can make, in order to NOT run out of memory). But how deep can we go?"
   ]
  },
  {
   "cell_type": "markdown",
   "metadata": {},
   "source": [
    "In this case, the largest possible input to `trianglerec` should be equivalent to the maximum recursion depth. There is an easiy way to compute the maximum recursion depth, using a single recursive function and exception handling. Create such a function below and run it to find the maximum recursion depth. Try it as input to `trianglerec`, does it work? Try the next larger number, does that work?"
   ]
  },
  {
   "cell_type": "code",
   "execution_count": 8,
   "metadata": {},
   "outputs": [
    {
     "name": "stdout",
     "output_type": "stream",
     "text": [
      "2974\n",
      "4420850\n"
     ]
    }
   ],
   "source": [
    "\n",
    "def test_recursion_depth(n, counter=0):\n",
    "    try:\n",
    "        counter += 1\n",
    "        return test_recursion_depth(n, counter)\n",
    "    except RuntimeError:\n",
    "        return counter\n",
    "    \n",
    "\n",
    "    \n",
    "n = test_recursion_depth(trianglerec)\n",
    "print(n)\n",
    "print(trianglerec(n-1))"
   ]
  },
  {
   "cell_type": "markdown",
   "metadata": {},
   "source": [
    "## 2 Higher-order functions and anonymous functions\n",
    "\n",
    "A _higher-order function_ is a function which operates on other functions. What this means exactly is disputed, one definition is that a higher-order function must itself return a function, another definition is that a higher-order function must take another function as input. We will play fast and loose with the definition and call any function which does either or both of these a higher-order function. (Conversely, a function neither taking another function as input nor returning a function we will refer to as a _first-order function_) In R you have encountered these when, for instance, using the `apply` family of functions, which are all versions of what is called a `map` function in functional programming (see below).\n",
    "\n",
    "When using higher-order functions, it is often useful to create simple anonymous functions at the place in the code where they are used, rather than defining a new named function in one place only to call it in a single other place. In R, all functions are created in this way with the `function` keyword, but they are usually assigned to global names with standard assignment (`<-`). Python provides similar functionality using the `lambda` keyword (name inspired by Alonzo Church's $\\lambda$-calculus which has inspired much of functional programming) with which we can create anonymous functions. Of course, we can also pass named functions to higher-order functions, which is usually the case when the function is predefined, general enough to be used in more than one place, or complex enough to warrant separate definition and documentation for the sake of clarity."
   ]
  },
  {
   "cell_type": "markdown",
   "metadata": {},
   "source": [
    "### Standard higher-order functions: map, filter, reduce\n",
    "\n",
    "There are three standard cases which are widely applicable and many other higher-order functions are special cases or combinations of these. They are: `map`, apply a function on each element in a sequence, `filter`, keep (or conversely, remove) elements from a sequence according to some condition, and `reduce`, combine the elements in a sequence. The `map` function takes a sequence and a function (usually of 1 parameter) which is to be applied to each element of the sequence and might return anything, this function is assumed not to have side effects. The `filter` function takes a function (usually of 1 parameter) which returns a boolean value used to indicate which elements are to be kept. The `reduce` function takes a function (usually of 2 parameters) which is used to combine the elements in the sequence.\n",
    "\n",
    "In Python, `map` and `filter` are standard functions, available in the global environment. However, since Python 3, the `reduce` function has been moved to the built-in `functools` module and needs to be imported before we can use it.\n",
    "\n",
    "Many more advanced functions, of any order, can be created by combining these three higher-order functions.\n",
    "\n",
    "Usually, the `reduce` function is more difficult to grasp than `map` and `filter` but I found this blog-post by AndrÃ© Burgaud to be a nice introduction to `reduce`. Note that Burgaud talks about the more general _fold_ concept rather than `reduce`, which is a special case of fold often called _left fold_ (this is covered in more detail in the post). https://www.burgaud.com/foldl-foldr-python/"
   ]
  },
  {
   "cell_type": "markdown",
   "metadata": {},
   "source": [
    "### 2.1 `mysum`\n",
    "\n",
    "Implement a function `mysum` which computes the sum of a list or tuple of numbers using the reduce function and a lambda function."
   ]
  },
  {
   "cell_type": "code",
   "execution_count": 6,
   "metadata": {},
   "outputs": [
    {
     "data": {
      "text/plain": [
       "12"
      ]
     },
     "execution_count": 6,
     "metadata": {},
     "output_type": "execute_result"
    }
   ],
   "source": [
    "from functools import reduce\n",
    "\n",
    "def mysum(l):\n",
    "    return reduce(lambda l, y: l+y,l)\n",
    "\n",
    "mysum((4, 7, 1))"
   ]
  },
  {
   "cell_type": "markdown",
   "metadata": {},
   "source": [
    "### 2.2 `mylength`\n",
    "\n",
    "Implement a function `mylength` which uses `map` and `reduce` to compute the length of a sequence. The use of the `len` function is not allowed.\n",
    "\n",
    "[Hint: Use `map` to convert the input to something which can easily be `reduce`:d.]"
   ]
  },
  {
   "cell_type": "code",
   "execution_count": 10,
   "metadata": {},
   "outputs": [
    {
     "name": "stdout",
     "output_type": "stream",
     "text": [
      "5\n",
      "4\n"
     ]
    }
   ],
   "source": [
    "def mylength(l):\n",
    "    return reduce(lambda x, y: x+y,list(map(lambda x: 1, l)))\n",
    "    \n",
    "print(mylength((4, 2, 5, 2, 5)))\n",
    "print(mylength(\"test\"))"
   ]
  },
  {
   "cell_type": "markdown",
   "metadata": {},
   "source": [
    "### 2.3 mylength2\n",
    "\n",
    "Implement a function `mylength` which uses only `reduce` to compute the length of a sequence using the optional third parameter to supply an initial value to `reduce`."
   ]
  },
  {
   "cell_type": "code",
   "execution_count": 11,
   "metadata": {},
   "outputs": [
    {
     "name": "stdout",
     "output_type": "stream",
     "text": [
      "5\n",
      "4\n"
     ]
    }
   ],
   "source": [
    "def mylength2(l):\n",
    "    return reduce(lambda x, y: x+1 , l ,0)\n",
    "\n",
    "print(mylength2((4, 2, 5, 2, 5)))\n",
    "print(mylength2(\"test\"))"
   ]
  },
  {
   "cell_type": "markdown",
   "metadata": {},
   "source": [
    "### 2.4 mysieve\n",
    "\n",
    "A very well known algorithm for finding prime numbers is the Sieve of Eratosthenes. This algorithm works by filtering  out all non-prime numbers up to some predefined $n$. Use the skeleton code below and write a recursive `inner` function using `filter` to find the prime numbers up to `n`.\n",
    "\n",
    "[Note: In Python, the `filter` function returns a type of generator, if you want to convert this to a tuple, simply use `tuple(filter(...))`.]<br>\n",
    "[Hint: Each call to `inner` should filter out the numbers divisible by the first element in `l`.]"
   ]
  },
  {
   "cell_type": "code",
   "execution_count": 15,
   "metadata": {},
   "outputs": [
    {
     "data": {
      "text/plain": [
       "[2,\n",
       " 3,\n",
       " 5,\n",
       " 7,\n",
       " 11,\n",
       " 13,\n",
       " 17,\n",
       " 19,\n",
       " 23,\n",
       " 29,\n",
       " 31,\n",
       " 37,\n",
       " 41,\n",
       " 43,\n",
       " 47,\n",
       " 53,\n",
       " 59,\n",
       " 61,\n",
       " 67,\n",
       " 71,\n",
       " 73,\n",
       " 79,\n",
       " 83,\n",
       " 89,\n",
       " 97]"
      ]
     },
     "execution_count": 15,
     "metadata": {},
     "output_type": "execute_result"
    }
   ],
   "source": [
    "def mysieve(n):\n",
    "    def inner(l):\n",
    "        if(len(l)>1):\n",
    "            return [int(l[0])]+inner(tuple(filter(lambda x: x % l[0] != 0,l)))\n",
    "        else:\n",
    "            return [int(l[0])]\n",
    "    return inner(tuple(range(2, n+1)))\n",
    "a = mysieve(100)\n",
    "a"
   ]
  },
  {
   "cell_type": "markdown",
   "metadata": {},
   "source": [
    "### Comprehensions\n",
    "\n",
    "One popular feature in many functional programming languages is comprehensions, which we already covered in the first lab. However, comprehensions are definitely a part of the functional side of Python, oh, and they are considered *Pythonic* as well as being very fast.\n",
    "\n",
    "Comprehensions can be used to simulate the behavior of `map` and `filter` (though not the behavior of `reduce`)."
   ]
  },
  {
   "cell_type": "markdown",
   "metadata": {},
   "source": [
    "### 2.5 mysieve2\n",
    "\n",
    "Reimplement the `mysieve` function using a comprehension instead of `filter`."
   ]
  },
  {
   "cell_type": "code",
   "execution_count": 16,
   "metadata": {},
   "outputs": [
    {
     "data": {
      "text/plain": [
       "(2,\n",
       " 3,\n",
       " 5,\n",
       " 7,\n",
       " 11,\n",
       " 13,\n",
       " 17,\n",
       " 19,\n",
       " 23,\n",
       " 29,\n",
       " 31,\n",
       " 37,\n",
       " 41,\n",
       " 43,\n",
       " 47,\n",
       " 53,\n",
       " 59,\n",
       " 61,\n",
       " 67,\n",
       " 71,\n",
       " 73,\n",
       " 79,\n",
       " 83,\n",
       " 89,\n",
       " 97)"
      ]
     },
     "execution_count": 16,
     "metadata": {},
     "output_type": "execute_result"
    }
   ],
   "source": [
    "def mysieve2(n):\n",
    "    def inner(l):\n",
    "        if(len(l)>1):\n",
    "            return (l[0],)+inner([x  for x in l if x%l[0] != 0])\n",
    "        else:\n",
    "            return (l[0],)\n",
    "    return inner(tuple(range(2, n+1)))\n",
    "mysieve2(100)"
   ]
  },
  {
   "cell_type": "markdown",
   "metadata": {},
   "source": [
    "## 3 Building your own higher order functions"
   ]
  },
  {
   "cell_type": "markdown",
   "metadata": {},
   "source": [
    "### 3.1 Reimplementing map, filter and reduce\n",
    "\n",
    "Re-implement the three basic functional helper functions `map`, `filter` and `reduce` as recursive functions. Note that the built-in versions of these functions work on multiple sequences of equal length if supplied, however, you can assume a single sequence as second parameter, i.e. you can also skip the third parameter to reduce."
   ]
  },
  {
   "cell_type": "code",
   "execution_count": 17,
   "metadata": {},
   "outputs": [
    {
     "data": {
      "text/plain": [
       "[0, 1, 4, 9, 16, 25, 36, 49, 64, 81]"
      ]
     },
     "execution_count": 17,
     "metadata": {},
     "output_type": "execute_result"
    }
   ],
   "source": [
    "def mymap(fun, l):\n",
    "    if(len(l)>1):\n",
    "        return [fun(l[0])]+ mymap(fun, l[1:])\n",
    "    else:\n",
    "        return [fun(l[0])]\n",
    "    \n",
    "\n",
    "mymap(lambda x:x**2, tuple(range(10)))"
   ]
  },
  {
   "cell_type": "code",
   "execution_count": 19,
   "metadata": {},
   "outputs": [
    {
     "data": {
      "text/plain": [
       "[0, 2, 4, 6, 8]"
      ]
     },
     "execution_count": 19,
     "metadata": {},
     "output_type": "execute_result"
    }
   ],
   "source": [
    "def myfilter(fun, l):\n",
    "    if(len(l) < 1):\n",
    "        return []\n",
    "    elif fun(l[0]):\n",
    "        return [l[0]] + myfilter(fun, l[1:])\n",
    "    else:\n",
    "        return myfilter(fun,l[1:])\n",
    "    \n",
    "myfilter(lambda x:x%2==0, tuple(range(10)))"
   ]
  },
  {
   "cell_type": "code",
   "execution_count": 7,
   "metadata": {},
   "outputs": [
    {
     "name": "stdout",
     "output_type": "stream",
     "text": [
      "120\n",
      "120\n"
     ]
    }
   ],
   "source": [
    "def myreduce(fun, l):\n",
    "     if l==():\n",
    "        return ()\n",
    "     if len(l)==2:\n",
    "        return fun(l[0],l[1])\n",
    "     else:\n",
    "        return fun(myreduce(fun,l[:(len(l)-1)]),l[-1])\n",
    "\n",
    "\n",
    "print(reduce(lambda x, y: x*y, tuple(range(1,6))))\n",
    "print(myreduce(lambda x, y: x*y, tuple(range(1,6))))"
   ]
  },
  {
   "cell_type": "markdown",
   "metadata": {},
   "source": [
    "##  4 Returning functions\n",
    "\n",
    "The previous section covered functions which take other functions as input, but what about the opposite, functions returning functions as output?"
   ]
  },
  {
   "cell_type": "markdown",
   "metadata": {},
   "source": [
    "### 4.1 myidentity\n",
    "\n",
    "This might seem like a trivial example but serves as a nice entry point into returning functions. Create a function `myidentity` wich takes a single input. When called `myidentity` should return a function which, when itself called, regardless of inputs, produces the original input to `myidentity`. This is useful for when we need to pass a function to a higher order function but want it only to produce a constant value, for instance the function passed to `map` when we implemented `mylength` above.\n",
    "\n",
    "That the returned function should take arbitrary inputs means that we need to use the special \\* and \\*\\* parameters, most often seen as `*args` and `**kwargs`. These are used to handle arbitrary numbers of unnamed or named arguments to functions. These are either used when a function might itself take an arbitrary number of inputs or when we want to pass along arguments from a higher order function to a concrete function."
   ]
  },
  {
   "cell_type": "code",
   "execution_count": 134,
   "metadata": {},
   "outputs": [
    {
     "name": "stdout",
     "output_type": "stream",
     "text": [
      "<function myidentity.<locals>.ret at 0x7f8479c8bd08>\n",
      "(1, (1, 3, 5), {'param3': [1, 2, 4], 'param2': 'a string'})\n"
     ]
    }
   ],
   "source": [
    "def myidentity(x):\n",
    "    def ret(*argv, **kwargs):\n",
    "        return (x, argv, kwargs)\n",
    "\n",
    "    return ret\n",
    "\n",
    "one = myidentity(1)\n",
    "print(one)\n",
    "print(one(1,3,5, param2=\"a string\", param3=[1, 2, 4]))"
   ]
  },
  {
   "cell_type": "markdown",
   "metadata": {},
   "source": [
    "### 4.2 mycomposite\n",
    "\n",
    "Function composition is a common in both math and programming. Write a function `mycomposite` which takes two functions, $a$ and $b$, and produces the _composite_ function $a \\circ b$, where $(a \\circ b)(x) \\Leftrightarrow a(b(x))$. Example use is given below."
   ]
  },
  {
   "cell_type": "code",
   "execution_count": 28,
   "metadata": {},
   "outputs": [
    {
     "name": "stdout",
     "output_type": "stream",
     "text": [
      "[-1.507556722888818, -1.2060453783110545, -0.9045340337332909, -0.6030226891555273, -0.30151134457776363, 0.0, 0.30151134457776363, 0.6030226891555273, 0.9045340337332909, 1.2060453783110545, 1.507556722888818]\n"
     ]
    }
   ],
   "source": [
    "from statistics import stdev, mean\n",
    "\n",
    "def mycomposite(a, b):\n",
    "    return lambda x: a(b(x))\n",
    "\n",
    "def myscale(l):\n",
    "    return [x/stdev(l) for x in l]\n",
    "\n",
    "def myshift(l):\n",
    "    return [x-mean(l) for x in l]\n",
    "\n",
    "standardize = mycomposite(myscale, myshift)\n",
    "\n",
    "print(standardize(range(-3, 8)))"
   ]
  },
  {
   "cell_type": "markdown",
   "metadata": {},
   "source": [
    "### 4.3 The pipeline function\n",
    "\n",
    "When doing data analysis, one very important part is pre-processing. Often, data goes through a number of steps of preprocessing, sometimes called a pipeline. The function composition example above can be seen as a special case of such a pipeline for only two functions. By clever use of higher order functions, we can build a pipeline function which takes a list or tuple of data transforming functions and creates a function which applies these sequentially. Construct such a function called `make_pipeline`. In order to focus on the primary purpose of the `make_pipeline` function, we will perform a very simple set of transformations, increment each value by 1, take the absolute value, and then take the square root. Usage example and code for the `inc` function is supplied below."
   ]
  },
  {
   "cell_type": "code",
   "execution_count": 126,
   "metadata": {
    "scrolled": true
   },
   "outputs": [
    {
     "data": {
      "text/plain": [
       "(2.0,\n",
       " 1.7320508075688772,\n",
       " 1.4142135623730951,\n",
       " 1.0,\n",
       " 0.0,\n",
       " 1.0,\n",
       " 1.4142135623730951,\n",
       " 1.7320508075688772,\n",
       " 2.0,\n",
       " 2.23606797749979)"
      ]
     },
     "execution_count": 126,
     "metadata": {},
     "output_type": "execute_result"
    }
   ],
   "source": [
    "import math\n",
    "\n",
    "def make_pipeline(*funs):\n",
    "    if not None in funs:\n",
    "        return lambda x: reduce(lambda x,y: map(y,x), funs, x)\n",
    "\n",
    "def inc(x):\n",
    "    return x+1\n",
    "\n",
    "def sqrt(x):\n",
    "    return math.sqrt(x)\n",
    "\n",
    "pipeline = make_pipeline(inc, abs, sqrt)\n",
    "\n",
    "\n",
    "tuple(pipeline(range(-5,5)))\n"
   ]
  },
  {
   "cell_type": "markdown",
   "metadata": {},
   "source": [
    "### 4.4 mypartial (Updated 2018-02-06)\n",
    "\n",
    "One of the main arguments for functional programming is the lack of state. However, sometimes we need to be able to set some constants without passing around enormous sets of inputs to functions. One approach to this is the `partial` function in the `functools` module. The `partial` function takes a function and an arbitrary number of named arguments and returns a function with those arguments bound to the corresponding named parameters of the function, i.e. creating a function of fewer parameters. Implement your own version of the `partial` function.\n",
    "\n",
    "[Note: In this case, you will have one dictionary of named  parameters(\\*\\*-parameters) for the `mypartial` function and one tuple of unnamed parameters (\\*-parameters) and one dictionary of named  parameters(\\*\\*-parameters) for the the function you will return. Note that the \\*\\*-dictionaries cannot share the same name.]"
   ]
  },
  {
   "cell_type": "code",
   "execution_count": 9,
   "metadata": {},
   "outputs": [
    {
     "data": {
      "text/plain": [
       "13"
      ]
     },
     "execution_count": 9,
     "metadata": {},
     "output_type": "execute_result"
    }
   ],
   "source": [
    "def add(a, b):\n",
    "    return a + b\n",
    "\n",
    "def mypartial_old(func,**kwargs):\n",
    "    def funct(*param,**nparam):\n",
    "        return(func(*(param), **kwargs))\n",
    "    return(funct)\n",
    "\n",
    "# FIXED\n",
    "def mypartial(func,**kwargs):\n",
    "    def funct(*param,**nparam):\n",
    "        namedParams = kwargs.copy()\n",
    "        namedParams.update(nparam)\n",
    "        return(func(*(param), **kwargs))\n",
    "    return(funct)\n",
    "\n",
    "add3 = mypartial(add, b = 3)\n",
    "add3(10)"
   ]
  },
  {
   "cell_type": "markdown",
   "metadata": {},
   "source": [
    "## 5 Closures, returning functions with state\n",
    "\n",
    "When a function is created it always has access to the environment in which it was created. Usually, this means that the function can access variables in the global environment. However, whenever a function is created inside another function, it has access to the environment of the function in which it is created. To access such variables, they have to be declared, in the inner function, using the `nonlocal` keyword. If we return this inner function, we have created a _closure_.\n",
    "\n",
    "A closure is a function which has access to an environment, not accessible from outside the function, but which is not destroyed when the function returns. I.e. it is a way to introduce a small measure of statefulness into functional programming. In Python, iterators and generators work much like this. However, we can use the general concept in many cases."
   ]
  },
  {
   "cell_type": "markdown",
   "metadata": {},
   "source": [
    "### 5.1 make_counter\n",
    "\n",
    "Implement a function `make_counter` which has a single parameter `n` which acts as the initial value for a counter. The function should return a function with no parameters which, when called, increments the value of `n` by 1 and returns the new value."
   ]
  },
  {
   "cell_type": "code",
   "execution_count": 140,
   "metadata": {},
   "outputs": [
    {
     "name": "stdout",
     "output_type": "stream",
     "text": [
      "1\n",
      "2\n",
      "3\n",
      "4\n",
      "5\n"
     ]
    }
   ],
   "source": [
    "def make_counter(n):\n",
    "    \n",
    "    def counter():\n",
    "        nonlocal n\n",
    "        n = n+1\n",
    "        return n\n",
    "    return counter\n",
    "\n",
    "c = make_counter(0)\n",
    "print(c())\n",
    "print(c())\n",
    "print(c())\n",
    "print(c())\n",
    "print(c())"
   ]
  },
  {
   "cell_type": "markdown",
   "metadata": {},
   "source": [
    "### 5.2 Message passing: `make_counter2`\n",
    "\n",
    "Often, it is beneficial to be able to inspect the state of a closure without changing that state or be able to change that state in more than one way. This can be achieved using _message passing_, i.e. letting the closure take one or more arguments which controls its behavior when called.\n",
    "\n",
    "Implement a function `make_counter2` which has a single parameter `n` which acts as the initial value for a counter. The function should return a function which takes a single argument `message`. The `message` should be one of the strings \"increment\" or \"decrement\". On \"increment\" the value of `n` should increase by 1 and be returned, on \"decrement\" the value of `n`should decrease by 1 and be returned, for any other message (or no message) the value of `n` should be returned.\n",
    "\n",
    "[Note: You need to use a default value for the `message` parameter so that the counter can be called without argument to return the current value of `n`.]"
   ]
  },
  {
   "cell_type": "code",
   "execution_count": 147,
   "metadata": {},
   "outputs": [
    {
     "name": "stdout",
     "output_type": "stream",
     "text": [
      "0\n",
      "1\n",
      "2\n",
      "3\n",
      "2\n",
      "2\n"
     ]
    }
   ],
   "source": [
    "def make_counter2(n):\n",
    "    def counter(s=\"0\"):\n",
    "        nonlocal n\n",
    "        if s == \"increment\":\n",
    "            n = n+1\n",
    "        elif s ==\"decrement\":\n",
    "            n = n-1\n",
    "        else:\n",
    "            n\n",
    "        return n\n",
    "    return counter\n",
    "\n",
    "c = make_counter2(0)\n",
    "print(c())\n",
    "print(c(\"increment\"))\n",
    "print(c(\"increment\"))\n",
    "print(c(\"increment\"))\n",
    "print(c(\"decrement\"))\n",
    "print(c())"
   ]
  },
  {
   "cell_type": "markdown",
   "metadata": {},
   "source": [
    "## 6 Practical applications: Quicksort\n",
    "\n",
    "### 6.1 Basic Quicksort (Updated 2018-05-06)\n",
    "\n",
    "One of the most famous recursive functions is the Quicksort function (https://en.wikipedia.org/wiki/Quicksort). It allows us to sort a sequence, with repeated values, in log-linear time and with a logarithmic number of recursive calls. We will start by implementing Quicksort for a tuple of numbers.\n",
    "\n",
    "You should note that Wikipedia illustrates a more advanced _in-place_ version of Quicksort. This means that the partition function is more advanced and that the quicksort function has 3 parameters instead of 1. For the purposes of this assignment you can simply pass a new tuple to each recursive call to quicksort (i.e. you can use _filter_ or a comprehension to create the inputs)."
   ]
  },
  {
   "cell_type": "code",
   "execution_count": 25,
   "metadata": {},
   "outputs": [
    {
     "name": "stdout",
     "output_type": "stream",
     "text": [
      "[0, 1, 2, 3, 4, 5, 6, 7, 8, 9, 10, 11, 12, 13, 14, 15, 16, 17, 18, 19, 20, 21, 22, 23, 24, 25, 26, 27, 28, 29, 30, 31, 32, 33, 34, 35, 36, 37, 38, 39, 40, 41, 42, 43, 44, 45, 46, 47, 48, 49, 50, 51, 52, 53, 54, 55, 56, 57, 58, 59, 60, 61, 62, 63, 64, 65, 66, 67, 68, 69, 70, 71, 72, 73, 74, 75, 76, 77, 78, 79, 80, 81, 82, 83, 84, 85, 86, 87, 88, 89, 90, 91, 92, 93, 94, 95, 96, 97, 98, 99, 100, 101, 102, 103, 104, 105, 106, 107, 108, 109, 110, 111, 112, 113, 114, 115, 116, 117, 118, 119, 120, 121, 122, 123, 124, 125, 126, 127, 128, 129, 130, 131, 132, 133, 134, 135, 136, 137, 138, 139, 140, 141, 142, 143, 144, 145, 146, 147, 148, 149, 150, 151, 152, 153, 154, 155, 156, 157, 158, 159, 160, 161, 162, 163, 164, 165, 166, 167, 168, 169, 170, 171, 172, 173, 174, 175, 176, 177, 178, 179, 180, 181, 182, 183, 184, 185, 186, 187, 188, 189, 190, 191, 192, 193, 194, 195, 196, 197, 198, 199, 200, 201, 202, 203, 204, 205, 206, 207, 208, 209, 210, 211, 212, 213, 214, 215, 216, 217, 218, 219, 220, 221, 222, 223, 224, 225, 226, 227, 228, 229, 230, 231, 232, 233, 234, 235, 236, 237, 238, 239, 240, 241, 242, 243, 244, 245, 246, 247, 248, 249, 250, 251, 252, 253, 254, 255, 256, 257, 258, 259, 260, 261, 262, 263, 264, 265, 266, 267, 268, 269, 270, 271, 272, 273, 274, 275, 276, 277, 278, 279, 280, 281, 282, 283, 284, 285, 286, 287, 288, 289, 290, 291, 292, 293, 294, 295, 296, 297, 298, 299, 300, 301, 302, 303, 304, 305, 306, 307, 308, 309, 310, 311, 312, 313, 314, 315, 316, 317, 318, 319, 320, 321, 322, 323, 324, 325, 326, 327, 328, 329, 330, 331, 332, 333, 334, 335, 336, 337, 338, 339, 340, 341, 342, 343, 344, 345, 346, 347, 348, 349, 350, 351, 352, 353, 354, 355, 356, 357, 358, 359, 360, 361, 362, 363, 364, 365, 366, 367, 368, 369, 370, 371, 372, 373, 374, 375, 376, 377, 378, 379, 380, 381, 382, 383, 384, 385, 386, 387, 388, 389, 390, 391, 392, 393, 394, 395, 396, 397, 398, 399, 400, 401, 402, 403, 404, 405, 406, 407, 408, 409, 410, 411, 412, 413, 414, 415, 416, 417, 418, 419, 420, 421, 422, 423, 424, 425, 426, 427, 428, 429, 430, 431, 432, 433, 434, 435, 436, 437, 438, 439, 440, 441, 442, 443, 444, 445, 446, 447, 448, 449, 450, 451, 452, 453, 454, 455, 456, 457, 458, 459, 460, 461, 462, 463, 464, 465, 466, 467, 468, 469, 470, 471, 472, 473, 474, 475, 476, 477, 478, 479, 480, 481, 482, 483, 484, 485, 486, 487, 488, 489, 490, 491, 492, 493, 494, 495, 496, 497, 498, 499, 500, 501, 502, 503, 504, 505, 506, 507, 508, 509, 510, 511, 512, 513, 514, 515, 516, 517, 518, 519, 520, 521, 522, 523, 524, 525, 526, 527, 528, 529, 530, 531, 532, 533, 534, 535, 536, 537, 538, 539, 540, 541, 542, 543, 544, 545, 546, 547, 548, 549, 550, 551, 552, 553, 554, 555, 556, 557, 558, 559, 560, 561, 562, 563, 564, 565, 566, 567, 568, 569, 570, 571, 572, 573, 574, 575, 576, 577, 578, 579, 580, 581, 582, 583, 584, 585, 586, 587, 588, 589, 590, 591, 592, 593, 594, 595, 596, 597, 598, 599, 600, 601, 602, 603, 604, 605, 606, 607, 608, 609, 610, 611, 612, 613, 614, 615, 616, 617, 618, 619, 620, 621, 622, 623, 624, 625, 626, 627, 628, 629, 630, 631, 632, 633, 634, 635, 636, 637, 638, 639, 640, 641, 642, 643, 644, 645, 646, 647, 648, 649, 650, 651, 652, 653, 654, 655, 656, 657, 658, 659, 660, 661, 662, 663, 664, 665, 666, 667, 668, 669, 670, 671, 672, 673, 674, 675, 676, 677, 678, 679, 680, 681, 682, 683, 684, 685, 686, 687, 688, 689, 690, 691, 692, 693, 694, 695, 696, 697, 698, 699, 700, 701, 702, 703, 704, 705, 706, 707, 708, 709, 710, 711, 712, 713, 714, 715, 716, 717, 718, 719, 720, 721, 722, 723, 724, 725, 726, 727, 728, 729, 730, 731, 732, 733, 734, 735, 736, 737, 738, 739, 740, 741, 742, 743, 744, 745, 746, 747, 748, 749, 750, 751, 752, 753, 754, 755, 756, 757, 758, 759, 760, 761, 762, 763, 764, 765, 766, 767, 768, 769, 770, 771, 772, 773, 774, 775, 776, 777, 778, 779, 780, 781, 782, 783, 784, 785, 786, 787, 788, 789, 790, 791, 792, 793, 794, 795, 796, 797, 798, 799, 800, 801, 802, 803, 804, 805, 806, 807, 808, 809, 810, 811, 812, 813, 814, 815, 816, 817, 818, 819, 820, 821, 822, 823, 824, 825, 826, 827, 828, 829, 830, 831, 832, 833, 834, 835, 836, 837, 838, 839, 840, 841, 842, 843, 844, 845, 846, 847, 848, 849, 850, 851, 852, 853, 854, 855, 856, 857, 858, 859, 860, 861, 862, 863, 864, 865, 866, 867, 868, 869, 870, 871, 872, 873, 874, 875, 876, 877, 878, 879, 880, 881, 882, 883, 884, 885, 886, 887, 888, 889, 890, 891, 892, 893, 894, 895, 896, 897, 898, 899, 900, 901, 902, 903, 904, 905, 906, 907, 908, 909, 910, 911, 912, 913, 914, 915, 916, 917, 918, 919, 920, 921, 922, 923, 924, 925, 926, 927, 928, 929, 930, 931, 932, 933, 934, 935, 936, 937, 938, 939, 940, 941, 942, 943, 944, 945, 946, 947, 948, 949, 950, 951, 952, 953, 954, 955, 956, 957, 958, 959, 960, 961, 962, 963, 964, 965, 966, 967, 968, 969, 970, 971, 972, 973, 974, 975, 976, 977, 978, 979, 980, 981, 982, 983, 984, 985, 986, 987, 988, 989, 990, 991, 992, 993, 994, 995, 996, 997, 998, 999]\n"
     ]
    }
   ],
   "source": [
    "from random import sample, choice\n",
    "\n",
    "    \n",
    "def quicksort(qslist):\n",
    "    \"\"\"\"Quicksort implementation.\"\"\"\n",
    "    if len(qslist) < 2:\n",
    "        return qslist\n",
    "\n",
    "    pivot = choice(qslist)\n",
    "    small = [x for x in qslist if x < pivot]\n",
    "    equal = [x for x in qslist if x == pivot]\n",
    "    big = [x for x in qslist if x > pivot]\n",
    "\n",
    "    return quicksort(small) + equal + quicksort(big)\n",
    " \n",
    "    \n",
    "    \n",
    "a = tuple(sample(range(1000), 1000))\n",
    "print(a)\n",
    "b = quicksort(a)\n",
    "print(b)"
   ]
  },
  {
   "cell_type": "markdown",
   "metadata": {},
   "source": [
    "### 6.2 Quicksort as a higher order function\n",
    "\n",
    "The version of quicksort implemented above should only work on simpler types of data. However, what if we wanted to change the sort from ascending to descending, or we wanted to sort a tuple of objects where Python itself does not know how to compare object A and object B? To add this functionality, we can pass another argument to Quicksort which is applied to each element to compute a value on which it can be sorted. With the same function, only using different key-functions supplied, you should be able to sort a tuple descending, and sort a tuple of tuples of numbers on the sum of each tuple of numbers.\n",
    "\n",
    "[Hint: To generate test data for the second case, you can use a tuple comprehension within a tuple comprehension together with the random module.]"
   ]
  },
  {
   "cell_type": "code",
   "execution_count": 89,
   "metadata": {},
   "outputs": [
    {
     "name": "stdout",
     "output_type": "stream",
     "text": [
      "((0.46629596104845694, 0.9422863036182159, 0.3201662890152843), (0.10849091786532872, 0.27726159007347173, 0.38316876531683464), (0.6227267395296162, 0.0507004914811775, 0.4670459528655688), (0.21764225276012872, 0.31220574201202544, 0.5184975094817832), (0.48274770210535767, 0.8968722968423237, 0.015469854765951085), (0.10089114265468546, 0.14002714006855999, 0.23238962543629815), (0.008289818551792005, 0.4768879088930589, 0.2411866054219587), (0.7585033719940958, 0.6579479179909847, 0.9560046967141381), (0.7405069979238077, 0.5735689950341348, 0.7663680186464132), (0.5952327262143547, 0.3697988096414656, 0.024737401219847466))\n",
      "[(0.10089114265468546, 0.14002714006855999, 0.23238962543629815), (0.008289818551792005, 0.4768879088930589, 0.2411866054219587), (0.10849091786532872, 0.27726159007347173, 0.38316876531683464), (0.5952327262143547, 0.3697988096414656, 0.024737401219847466), (0.21764225276012872, 0.31220574201202544, 0.5184975094817832), (0.6227267395296162, 0.0507004914811775, 0.4670459528655688), (0.48274770210535767, 0.8968722968423237, 0.015469854765951085), (0.46629596104845694, 0.9422863036182159, 0.3201662890152843), (0.7405069979238077, 0.5735689950341348, 0.7663680186464132), (0.7585033719940958, 0.6579479179909847, 0.9560046967141381)]\n"
     ]
    }
   ],
   "source": [
    "from random import random\n",
    "\n",
    "# Write quicksort2 here:\n",
    "def quicksort2(qslist, fun, desc=\"normal\"):\n",
    "    def quicksort(qslist):\n",
    "        \"\"\"\"Quicksort implementation.\"\"\"\n",
    "        if len(qslist) < 2:\n",
    "            return qslist\n",
    "\n",
    "        pivot = choice(qslist)\n",
    "        small = [x for x in qslist if fun(x) < fun(pivot)]\n",
    "        equal = [x for x in qslist if fun(x) == fun(pivot)]\n",
    "        big = [x for x in qslist if fun(x) > fun(pivot)]\n",
    "\n",
    "        return quicksort(small) + equal + quicksort(big)\n",
    "    \n",
    "    #qslist = tuple(map(lambda x: fun(x), qslist))\n",
    "\n",
    "    return quicksort(qslist)\n",
    "\n",
    "a = tuple(tuple(random() for i in range(3)) for j in range(10))\n",
    "print(a)\n",
    "b = quicksort2(a, sum)\n",
    "print(b)"
   ]
  },
  {
   "cell_type": "markdown",
   "metadata": {},
   "source": [
    "### 6.3 Quicksort as a higher order function with unknown arguments\n",
    "\n",
    "The version of Quicksort above only works with functions which takes no arguments but the object being compared. However, a higher order function can be made to pass along unnamed or named arguments using \\*args or \\*\\*kwargs. Below you find a function implementing the probability density function for the Gaussian distribution, taking an observation x, as well as the location and scale for the distribution at hand, and computes the density at x.\n",
    "\n",
    "We would now like to sort a tuple of observations on their corresponding density on the standard normal distribution. To do this, it is not enough to only pass `gausspdf` to quicksort but we also need to pass the values for `loc` and `scale`."
   ]
  },
  {
   "cell_type": "code",
   "execution_count": 124,
   "metadata": {},
   "outputs": [
    {
     "name": "stdout",
     "output_type": "stream",
     "text": [
      "(-0.5286049525094949, 0.37660073939715666, -0.7459257927343363, 0.31296999289836847, 0.2654334513796721, 0.2430320850902603, -0.0962914695506214, 0.9225021227262422, 0.11925923555113394, 0.8070889642558834)\n",
      "[0.9225021227262422, 0.8070889642558834, -0.7459257927343363, -0.5286049525094949, 0.37660073939715666, 0.31296999289836847, 0.2654334513796721, 0.2430320850902603, 0.11925923555113394, -0.0962914695506214]\n"
     ]
    }
   ],
   "source": [
    "from math import exp, sqrt, pi\n",
    "from random import uniform\n",
    "\n",
    "def gausspdf(x, loc, scale):\n",
    "    return (exp(-((x - loc) / scale)**2/2)/sqrt(2*pi))/scale\n",
    "\n",
    "# Write quicksort3 here:\n",
    "def quicksort3(qslist, fun, **kwargs):\n",
    "    def quicksort(qslist):\n",
    "        \"\"\"\"Quicksort implementation.\"\"\"\n",
    "        if len(qslist) < 2:\n",
    "            return qslist\n",
    "\n",
    "        pivot = choice(qslist)\n",
    "        small = [x for x in qslist if fun(x,**kwargs) < fun(pivot,**kwargs)]\n",
    "        equal = [x for x in qslist if fun(x,**kwargs) == fun(pivot,**kwargs)]\n",
    "        big = [x for x in qslist if fun(x,**kwargs) > fun(pivot,**kwargs)]\n",
    "\n",
    "        return quicksort(small) + equal + quicksort(big)\n",
    "    \n",
    "    #qslist = tuple(map(lambda x: fun(x), qslist))\n",
    "\n",
    "    return quicksort(qslist)\n",
    "\n",
    "\n",
    "\n",
    "    \n",
    "    \n",
    "a = tuple(uniform(-1,1) for i in range(10))\n",
    "print(a)\n",
    "b = quicksort3(a, gausspdf, loc=0, scale=1)\n",
    "print(b)"
   ]
  },
  {
   "cell_type": "markdown",
   "metadata": {},
   "source": [
    "Of course, in many cases we could use `partial` to the same effect."
   ]
  },
  {
   "cell_type": "markdown",
   "metadata": {},
   "source": [
    "### 6.4 Quicksort for any type of sequence\n",
    "\n",
    "All versions of quicksort above works with the tuple data type, but what if we wanted the return type to be a list, or a custom sequence type? Well, create a version of quicksort which adds a parameter which is used to supply a function which controls the type of the returned and sorted sequence.\n",
    "\n",
    "[Bonus: Create a version which does not take an extra argument but simply uses the supplied sequence type.]"
   ]
  },
  {
   "cell_type": "code",
   "execution_count": 128,
   "metadata": {},
   "outputs": [
    {
     "name": "stdout",
     "output_type": "stream",
     "text": [
      "(0.5537961535970068, -0.5736787859296668, -0.5140632434569017, 0.6221556709523575, -0.5207058818630492, 0.35233817771508247, -0.2563018078590986, 0.3762498627379329, 0.6828550960383013, 0.8182484062896862)\n",
      "(0.8182484062896862, 0.6828550960383013, 0.6221556709523575, -0.5736787859296668, 0.5537961535970068, -0.5207058818630492, -0.5140632434569017, 0.3762498627379329, 0.35233817771508247, -0.2563018078590986)\n",
      "[0.557410794989512, 0.571237996870239, 0.5343314139659261, 0.17032714577912245, 0.19064653934664788, 0.7294115873246425, 0.644707127606772, 0.20273157513311557, -0.4053253605315448, 0.9735189745707244]\n",
      "[0.9735189745707244, 0.7294115873246425, 0.644707127606772, 0.571237996870239, 0.557410794989512, 0.5343314139659261, -0.4053253605315448, 0.20273157513311557, 0.19064653934664788, 0.17032714577912245]\n"
     ]
    }
   ],
   "source": [
    "from math import exp, sqrt, pi\n",
    "from random import uniform\n",
    "\n",
    "def gausspdf(x, loc, scale):\n",
    "    return (exp(-((x - loc) / scale)**2/2)/sqrt(2*pi))/scale\n",
    "\n",
    "# Write quicksort4 here:\n",
    "def quicksort4(qslist, typ, key, **kwargs):\n",
    "    fun=key\n",
    "    def quicksort(qslist):\n",
    "        \"\"\"\"Quicksort implementation.\"\"\"\n",
    "        if len(qslist) < 2:\n",
    "            return qslist\n",
    "\n",
    "        pivot = choice(qslist)\n",
    "        small = [x for x in qslist if fun(x,**kwargs) < fun(pivot,**kwargs)]\n",
    "        equal = [x for x in qslist if fun(x,**kwargs) == fun(pivot,**kwargs)]\n",
    "        big = [x for x in qslist if fun(x,**kwargs) > fun(pivot,**kwargs)]\n",
    "\n",
    "        return quicksort(small) + equal + quicksort(big)\n",
    "    \n",
    "    #qslist = tuple(map(lambda x: fun(x), qslist))\n",
    "\n",
    "    return typ(quicksort(qslist))\n",
    "\n",
    "\n",
    "\n",
    "a = tuple(uniform(-1,1) for i in range(10))\n",
    "print(a)\n",
    "b = quicksort4(a, tuple, key=gausspdf, loc=0, scale=1)\n",
    "print(b)\n",
    "a = [uniform(-1,1) for i in range(10)]\n",
    "print(a)\n",
    "b = quicksort4(a, list, key=gausspdf, loc=0, scale=1)\n",
    "print(b)"
   ]
  }
 ],
 "metadata": {
  "kernelspec": {
   "display_name": "Python 3",
   "language": "python",
   "name": "python3"
  },
  "language_info": {
   "codemirror_mode": {
    "name": "ipython",
    "version": 3
   },
   "file_extension": ".py",
   "mimetype": "text/x-python",
   "name": "python",
   "nbconvert_exporter": "python",
   "pygments_lexer": "ipython3",
   "version": "3.4.3"
  }
 },
 "nbformat": 4,
 "nbformat_minor": 2
}
