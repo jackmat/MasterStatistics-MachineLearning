{
 "cells": [
  {
   "cell_type": "markdown",
   "metadata": {},
   "source": [
    "## L3: Topic Models\n",
    "### 732A92/TDDE16 Text Mining\n",
    "Måns Magnusson"
   ]
  },
  {
   "cell_type": "markdown",
   "metadata": {},
   "source": [
    "The purpose of this lab is to implement the standard Gibbs sampling algorithm for Latent Dirichlet Allocation in Python. You will be supplied starter code, a smaller corpus with State of the Union addresses for the period 1975 to 2000 by paragraph and a list with English stopwords. The code is implemented as a class, TopicModel, where you are expected to replace central parts of the code with your own implementations."
   ]
  },
  {
   "cell_type": "markdown",
   "metadata": {},
   "source": [
    "### 1. Sampling\n",
    "\n",
    "Implement the basic collapsed Gibbs sampling algorithm for Latent Dirichlet Allocation. Use the starter code and add the components that is missing (the sampler part). We use the fact that \n",
    "\n",
    "$$p(z_{i}=k)\\propto\\left(\\alpha+n_{d,k}^{(d)}\\right)\\frac{\\left(\\beta+n_{k,w_{i}}^{(w)}\\right)}{\\sum^{V}\\left(\\beta+n_{k,w_{i}}^{(w)}\\right)}=\\left(\\alpha+n_{d,k}^{(d)}\\right)\\frac{\\left(\\beta+n_{k,w_{i}}^{(w)}\\right)}{V\\beta+n_{k}}$$\n",
    "\n",
    "to simplify computations, where $K$ is the number of topics, $V$ is the vocabulary size and $D$ is the number of documents. $\\mathbf{n}^{(d)}$ is a count matrix of size $D\\times K$ with the number of topic indicators by document, $d$, and topic $k$, $\\mathbf{n}^{(w)}$ is a count matrix of size $K\\times V$ with the number of topic indicators by topic, $k$, and word type, $w$. $\\mathbf{n}$ is a topic indicator count vector of length $K$ that contain the number of topic indicators in each topic. The detailed algorithm can be found below:"
   ]
  },
  {
   "cell_type": "markdown",
   "metadata": {},
   "source": [
    "__Data:__ tokenized corpus $\\mathbf{w}$, priors $\\alpha, \\beta$ <br>\n",
    "__Result:__ topic indicators $\\mathbf{z}$\n",
    "\n",
    "Init topic indicators $\\mathbf{z}$ randomly per token<br>\n",
    "Init topic probability vector $\\mathbf{p}$<br>\n",
    "Sum up $\\mathbf{z}$ to $\\mathbf{n}^{w}$, the topic type count matrix of size ($K \\times V$)<br>\n",
    "Sum up $\\mathbf{z}$ to $\\mathbf{n}^{d}$, the document topic count matrix of size ($D \\times K$)<br>\n",
    "Sum up $\\mathbf{z}$ to $\\mathbf{n}$, the topic count vector of length ($K$)<br>\n",
    "\n",
    "for $g \\leftarrow 1$ __to__ _no_\\__iterations_ __do__<br>\n",
    "&emsp;&emsp;// Iterate over all tokens<br>\n",
    "&emsp;&emsp;for $i \\leftarrow 1$ __to__ $N$ __do__<br>\n",
    "&emsp;&emsp;&emsp;&emsp;// Remove current topic indicator $z_i$ from $\\mathbf{n}^{w}$, $\\mathbf{n}^{d}$ and $\\mathbf{n}$<br>\n",
    "&emsp;&emsp;&emsp;&emsp;$n^{(w)}_{z_i,w_i}$ =- 1, $n^{(d)}_{d_i,z_i}$ =- 1, $n_{z_i}$ =- 1<br>\n",
    "&emsp;&emsp;&emsp;&emsp;for $k \\leftarrow 1$ __to__ $K$ __do__<br>\n",
    "&emsp;&emsp;&emsp;&emsp;&emsp;&emsp;// Compute the unnormalized probability of each topic indicator<br>\n",
    "&emsp;&emsp;&emsp;&emsp;&emsp;&emsp;$\\mathbf{p}_k \\leftarrow \\left(\\alpha+n_{d,k}^{(d)}\\right)\\frac{\\left(\\beta+n_{k,w_{i}}^{(w)}\\right)}{\\left(V\\beta+n_{k}\\right)}$<br>\n",
    "&emsp;&emsp;&emsp;&emsp;__end__<br>\n",
    "&emsp;&emsp;&emsp;&emsp;// Sample the topic indicator<br>\n",
    "&emsp;&emsp;&emsp;&emsp;$z_i \\leftarrow $ Categorical($\\mathbf{p}$)<br>\n",
    "&emsp;&emsp;&emsp;&emsp;// Add the new topic indicator $z_i$ to $\\mathbf{n}^{w}$, $\\mathbf{n}^{d}$ and $\\mathbf{n}$<br>\n",
    "&emsp;&emsp;&emsp;&emsp;$n^{(w)}_{z_i,w_i}$ =+ 1, $n^{(d)}_{d_i,z_i}$ =+ 1, $n_{z_i}$ =+ 1<br>\n",
    "&emsp;&emsp;__end__<br>\n",
    "__end__"
   ]
  },
  {
   "cell_type": "markdown",
   "metadata": {},
   "source": [
    "For a complete derivation of the collapsed Gibbs sampler for LDA, see https://lingpipe.files.wordpress.com/2010/07/lda3.pdf."
   ]
  },
  {
   "cell_type": "code",
   "execution_count": null,
   "metadata": {},
   "outputs": [],
   "source": [
    "import numpy, random, scipy.special\n",
    "from tm3 import LDAGibbs\n",
    "\n",
    "class MyGibbs(LDAGibbs):\n",
    "    \n",
    "    def initialize_matrices(self):\n",
    "        \"\"\"Initializes numpy arrays for the matrix computations performed\n",
    "        by the sampler during the MCMC process.\"\"\"\n",
    "        ## Set up numpy matrices\n",
    "        self.term_topics = numpy.zeros((self.num_terms, self.num_topics))\n",
    "        self.doc_topics = numpy.zeros((self.num_docs, self.num_topics))\n",
    "        self.topic_totals = numpy.zeros(self.num_topics)\n",
    "        self.doc_totals = numpy.zeros(self.num_docs)\n",
    "        ## Initialize topics randomly\n",
    "        for doc_id in range(self.num_docs):\n",
    "            doc = self.docs[doc_id]\n",
    "            ## Create an array of random topic assignments\n",
    "            doc['topics'] = list(map(lambda x: random.randrange(self.num_topics), doc['tokens']))\n",
    "            ## Construct the initial summary statistics\n",
    "            doc_length = len(doc['tokens'])\n",
    "            for i in range(doc_length):\n",
    "                token = doc['tokens'][i]\n",
    "                topic = doc['topics'][i]\n",
    "                self.term_topics[token][topic] += 1 # n_wk\n",
    "                self.doc_topics[doc_id][topic] += 1 # n_dk\n",
    "                self.topic_totals[topic] += 1       # n_k\n",
    "                self.doc_totals[doc_id] += 1\n",
    "        ## Printout to check that everything is coherent\n",
    "#         print(sum(sum(self.doc_topics)))\n",
    "#         print(sum(sum(self.term_topics)))\n",
    "#         print(sum(self.topic_totals))\n",
    "#         print(sum(self.doc_totals))\n",
    "    \n",
    "    def read_documents(self, filename):\n",
    "        \"\"\"Reads documents from a file, filters stop words and initializes\n",
    "        the vocabulary. Also converts tokens to integer term IDs.\"\"\"\n",
    "        self.vocab = []\n",
    "        self.vocab_ids = {}\n",
    "        with open(filename) as f:\n",
    "            for line in f:\n",
    "                line = line.replace(\".\", \" \").replace(\",\", \" \").lower()\n",
    "                self.num_docs += 1\n",
    "                tokens = []\n",
    "                for w in line.split():\n",
    "                    if not w in self.stoplist:\n",
    "                        if w in self.vocab_ids:\n",
    "                            tokens.append(self.vocab_ids[w])\n",
    "                        else:\n",
    "                            term_id = len(self.vocab)\n",
    "                            self.vocab.append(w)\n",
    "                            self.vocab_ids[w] = term_id\n",
    "                            tokens.append(term_id)\n",
    "                self.doc_snippets.append(line[:200])\n",
    "                self.docs.append({ 'tokens': tokens })\n",
    "        self.num_terms = len(self.vocab)\n",
    "        print(\"Read {} documents with a total of {} terms\".format(self.num_docs, self.num_terms))\n",
    "    \n",
    "    def __init__(self,\n",
    "                 num_topics,\n",
    "                 docs_file_name,\n",
    "                 stop_list_file_name = None):\n",
    "        self.num_topics = num_topics\n",
    "        self.num_docs = 0\n",
    "        self.doc_snippets = []\n",
    "        self.docs = []\n",
    "        ## Prepare list of stopwords\n",
    "        self.stoplist = dict()\n",
    "        if stop_list_file_name != None:\n",
    "            with open(stop_list_file_name) as f:\n",
    "                for line in f:\n",
    "                    word = line.rstrip()\n",
    "                    self.stoplist[word] = 1\n",
    "        self.read_documents(docs_file_name)\n",
    "        self.initialize_matrices()\n",
    "    \n",
    "    def print_topics(self, j):\n",
    "        \"\"\"Prints topic distributions for the.\"\"\"\n",
    "        super().print_topics(j)\n",
    "            \n",
    "    def make_draw(self, alpha, beta):\n",
    "        \"\"\"Makes a single draw from the posterior distribution in an MCMC fashion.\"\"\"\n",
    "        super().make_draw(alpha, beta)\n",
    "    \n",
    "    def compute_logprob(self, alpha, beta):\n",
    "        \"\"\"Computes the log marginal posterior.\"\"\"\n",
    "        return super().compute_logprob(alpha, beta)\n",
    "    \n",
    "    def run(self, num_iterations = 50, alpha = 0.1, beta = 0.01):\n",
    "        self.logprobs = []\n",
    "        for iteration in range(num_iterations):\n",
    "            self.make_draw(alpha, beta)\n",
    "            logprob = self.compute_logprob(alpha, beta)\n",
    "            self.logprobs.append(logprob)\n",
    "            print(\"iteration {}, {}\".format(iteration, logprob))\n",
    "            \n",
    "    def plot(self):\n",
    "        super().plot()"
   ]
  },
  {
   "cell_type": "markdown",
   "metadata": {},
   "source": [
    "Implement the make_draw function above. You should get behavior very similar to the results from calling the parent class."
   ]
  },
  {
   "cell_type": "code",
   "execution_count": null,
   "metadata": {},
   "outputs": [],
   "source": [
    "model = MyGibbs(10, 'sotu_1975_2000.txt', 'stoplist_en.txt')\n",
    "model.run(10)"
   ]
  },
  {
   "cell_type": "markdown",
   "metadata": {},
   "source": [
    "### 2. Top terms\n",
    "Implement the print_topics function to extract the top j largest counts in n (w) by row. This is the most probable word types in each topic."
   ]
  },
  {
   "cell_type": "code",
   "execution_count": null,
   "metadata": {},
   "outputs": [],
   "source": [
    "model.print_topics(10)"
   ]
  },
  {
   "cell_type": "markdown",
   "metadata": {},
   "source": [
    "### 3. Explore the data\n",
    "\n",
    "Run your implemention on the State of the Union corpus until convergence with 10 topics, don't forget to remove stop words. Plot the log marginal posterior by the number of iterations. How many iterations do you need until convergence? How do you interpret the topics?\n",
    "\n",
    "[Hint: You can use the plot-function to print the marginal probability for each iteration. To get it working in Jupyter you need to run the command `%matplotlib inline` before plotting the first time.]"
   ]
  },
  {
   "cell_type": "code",
   "execution_count": null,
   "metadata": {},
   "outputs": [],
   "source": [
    "%matplotlib inline\n",
    "model.run(10)\n",
    "model.plot()"
   ]
  },
  {
   "cell_type": "markdown",
   "metadata": {},
   "source": [
    "#### Answer here:"
   ]
  },
  {
   "cell_type": "markdown",
   "metadata": {},
   "source": [
    "### 4. Simulate a new State of the Union speech\n",
    "\n",
    "Write a function new_speech in the MyGibbs class to use the estimated values for $\\Phi$ from your model (with stopwords removed) to simulate a new State of the Union speech. Start out by simulating $\\theta d \\sim Dir(\\alpha = 0.5)$ and then simulate your document. Does it make sense? Why, why not?"
   ]
  },
  {
   "cell_type": "markdown",
   "metadata": {},
   "source": [
    "#### Answer here:"
   ]
  },
  {
   "cell_type": "markdown",
   "metadata": {},
   "source": [
    "### Bonus assignment:\n",
    "\n",
    "To get better understanding of the underlying model, you might want to implement your own function to compute the log marginal posterior. If so, implement the compute_logprob function.\n",
    "\n",
    "$$\\begin{align}\n",
    "\\log p(\\mathbf{z}|\\mathbf{w}) =& \\log\\prod^{K}p(\\mathbf{w}|\\mathbf{z},\\beta)\\prod^{D}p(\\mathbf{z}|\\alpha) \\\\\n",
    "=& \\sum^{K}\\log\\left[\\frac{\\Gamma\\left(\\sum^{V}\\beta\\right)}{\\prod^{V}\\Gamma\\left(\\beta\\right)}\\frac{\\prod^{V}\\Gamma\\left(n_{kv}^{(w)}+\\beta\\right)}{\\Gamma(\\sum^{V}n_{kv}^{(w)}+\\beta)}\\right]+\\sum^{D}\\log\\left[\\frac{\\Gamma\\left(\\sum^{K}\\alpha\\right)}{\\prod^{K}\\Gamma\\left(\\alpha\\right)}\\frac{\\prod^{K}\\Gamma\\left(n_{dk}^{(d)}+\\alpha\\right)}{\\Gamma(\\sum^{K}n_{dk}^{(d)}+\\alpha)}\\right] \\\\\n",
    "=& K\\log\\Gamma\\left(V\\beta\\right)-KV\\log\\Gamma\\left(\\beta\\right)+\\sum^{K}\\sum^{V}\\log\\Gamma\\left(n_{kv}^{(w)}+\\beta\\right)-\\sum^{K}\\log\\Gamma(\\sum^{V}n_{kv}^{(w)}+\\beta)\\\\\n",
    "&+ D\\log\\Gamma\\left(K\\alpha\\right)-DK\\log\\Gamma\\left(\\alpha\\right)+\\sum^{D}\\sum^{K}\\log\\Gamma\\left(n_{dk}^{(d)}+\\alpha\\right)-\\sum^{D}\\log\\Gamma(\\sum^{K}n_{dk}^{(d)}+\\alpha)\n",
    "\\end{align}$$\n",
    "\n",
    "In Python, use `scipy.special.gammaln` for $\\log\\Gamma(x)$ (if you run into problems, you might try `math.lgamma` instead)."
   ]
  }
 ],
 "metadata": {
  "kernelspec": {
   "display_name": "Python 3",
   "language": "python",
   "name": "python3"
  },
  "language_info": {
   "codemirror_mode": {
    "name": "ipython",
    "version": 3
   },
   "file_extension": ".py",
   "mimetype": "text/x-python",
   "name": "python",
   "nbconvert_exporter": "python",
   "pygments_lexer": "ipython3",
   "version": "3.6.3"
  }
 },
 "nbformat": 4,
 "nbformat_minor": 2
}
