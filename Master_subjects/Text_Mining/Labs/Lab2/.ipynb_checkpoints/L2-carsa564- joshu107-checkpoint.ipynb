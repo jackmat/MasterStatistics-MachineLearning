{
 "cells": [
  {
   "cell_type": "markdown",
   "metadata": {},
   "source": [
    "# L2: Information Extraction"
   ]
  },
  {
   "cell_type": "markdown",
   "metadata": {},
   "source": [
    "In this lab you will implement and evaluate a simple system for information extraction. The task of the system is to read sentences and extract entity pairs of the form *x*&ndash;*y* where *x*&nbsp;is a person, *y*&nbsp;is an organisation, and *x* is the &lsquo;leader&rsquo; of&nbsp;*y*. Consider the following example sentence:\n",
    "\n",
    "<blockquote>\n",
    "Mr. Obama also selected Lisa Jackson to head the Environmental Protection Agency.\n",
    "</blockquote>\n",
    "\n",
    "From this sentence the system should extract the pair\n",
    "```\n",
    "(\"Lisa Jackson\", \"Environmental Protection Agency\")\n",
    "```\n",
    "\n",
    "The system will have to solve the following sub-tasks:\n",
    "* entity extraction &ndash; identifying mentions of person entities in text\n",
    "* relation extraction &ndash; identifying instances of the &lsquo;is-leader-of&rsquo; relation\n",
    "\n",
    "The data set for the lab consists of 62,010&nbsp;sentences from the [Groningen Meaning Bank](http://gmb.let.rug.nl) (release 2.2.0), an open corpus of English. To analyse the sentences you will use [spaCy](https://spacy.io/)."
   ]
  },
  {
   "cell_type": "markdown",
   "metadata": {},
   "source": [
    "## Getting started"
   ]
  },
  {
   "cell_type": "markdown",
   "metadata": {},
   "source": [
    "The first cell imports the Python module required for this lab."
   ]
  },
  {
   "cell_type": "code",
   "execution_count": 1,
   "metadata": {
    "collapsed": true
   },
   "outputs": [],
   "source": [
    "import tm2"
   ]
  },
  {
   "cell_type": "markdown",
   "metadata": {},
   "source": [
    "The data is contained in the following file:"
   ]
  },
  {
   "cell_type": "code",
   "execution_count": 2,
   "metadata": {
    "collapsed": true
   },
   "outputs": [],
   "source": [
    "#data_file = \"C:/Users/Carles/Desktop/MasterStatistics-MachineLearning/Master_subjects/Text_Mining/Labs/Lab2/gmb.txt\"\n",
    "#data_file = \"/home/carsa564/Desktop/TextMining/gmb.txt\"\n",
    "\n",
    "data_file = \"/home/TDDE16/labs/l2/data/gmb.txt\"\n"
   ]
  },
  {
   "cell_type": "markdown",
   "metadata": {},
   "source": [
    "The `tm2` module defines a function `read_data` that returns an iterator over the lines in a file. You should use this function to read the data for this lab. Use the optional argument `n` to restrict the iteration to the first few lines of the file. Here is an example:"
   ]
  },
  {
   "cell_type": "code",
   "execution_count": 3,
   "metadata": {
    "scrolled": false
   },
   "outputs": [
    {
     "name": "stdout",
     "output_type": "stream",
     "text": [
      "Masked assailants with grenades and automatic weapons attacked a wedding party in southeastern Turkey, killing 45 people and wounding at least six others.\n",
      "Turkish officials said the attack occurred Monday in the village of Bilge about 600 kilometers from Ankara.\n",
      "The wounded were taken to the hospital in the nearby city of Mardin.\n"
     ]
    }
   ],
   "source": [
    "#data = open(data_file, \"r\", encoding=\"utf8\")\n",
    "for sentence in tm2.read_data(data_file, n=3):\n",
    "    print(sentence)\n",
    "        "
   ]
  },
  {
   "cell_type": "markdown",
   "metadata": {},
   "source": [
    "The next cell imports spaCy and loads its English language model."
   ]
  },
  {
   "cell_type": "code",
   "execution_count": 4,
   "metadata": {
    "collapsed": true
   },
   "outputs": [],
   "source": [
    "import spacy\n",
    "\n",
    "nlp = spacy.load('en', disable=['textcat'])"
   ]
  },
  {
   "cell_type": "markdown",
   "metadata": {},
   "source": [
    "## Entity extraction"
   ]
  },
  {
   "cell_type": "markdown",
   "metadata": {},
   "source": [
    "To implement the entity extraction part of your system, you do not need to do much, as you can use the full natural language processing power built into spaCy. The following code extracts the entities from the first 5&nbsp;sentences of the data:"
   ]
  },
  {
   "cell_type": "code",
   "execution_count": 5,
   "metadata": {},
   "outputs": [
    {
     "name": "stdout",
     "output_type": "stream",
     "text": [
      "Turkey\t13\t14\tGPE\n",
      "45\t16\t17\tCARDINAL\n",
      "at least six\t20\t23\tCARDINAL\n",
      "Turkish\t0\t1\tNORP\n",
      "Monday\t6\t7\tDATE\n",
      "Bilge\t11\t12\tGPE\n",
      "about 600 kilometers\t12\t15\tQUANTITY\n",
      "Ankara\t16\t17\tGPE\n",
      "Mardin\t12\t13\tGPE\n"
     ]
    }
   ],
   "source": [
    "#for i, doc in enumerate(nlp.pipe(data)):\n",
    "#    for ent in doc.ents:\n",
    "#        print(\"{}\\t{}\\t{}\\t{}\".format(ent.text, ent.start, ent.end, ent.label_))\n",
    "\n",
    "for i, doc in enumerate(nlp.pipe(tm2.read_data(data_file, n=5))):\n",
    "    for ent in doc.ents:\n",
    "        print(\"{}\\t{}\\t{}\\t{}\".format(ent.text, ent.start, ent.end, ent.label_))"
   ]
  },
  {
   "cell_type": "markdown",
   "metadata": {},
   "source": [
    "Read the [section about named entities](https://spacy.io/usage/linguistic-features#section-named-entities) from spaCy&rsquo;s documentation to get some background on this. (Please note that we are using version&nbsp;1 of the spaCy library, which means that there may be slight differences in the usage. At the time of writing, the current version&nbsp;2 is not yet stable and fast enough for this lab.)"
   ]
  },
  {
   "cell_type": "markdown",
   "metadata": {},
   "source": [
    "## Problem 1: Extract relevant pairs"
   ]
  },
  {
   "cell_type": "markdown",
   "metadata": {},
   "source": [
    "The first problem that you will have to solve is to identify pairs of entities that are in the &lsquo;is-leader-of&rsquo; relation, as in the example above. There are many ways to do this, but for this lab it suffices to implement the strategy outlined in the section on [Relation Extraction](http://www.nltk.org/book/ch07.html#relation-extraction) in the book by Bird, Klein, and Loper (2009):\n",
    "\n",
    "* look for all triples of the form $(X, \\alpha, Y)$ where $X$ and $Y$ are named entities of type *person* and $\\alpha$ is the intervening text\n",
    "* write a regular expression to match just those instances of $\\alpha$ that express the &lsquo;is-leader-of&rsquo; relation\n",
    "\n",
    "You can restrict your attention to adjacent pairs of entities &ndash; that is, cases where $X$ precedes $Y$ and $\\alpha$ does not contain other named entities.\n",
    "\n",
    "Write a function `extract` that takes an analysed sentence (represented as a spaCy [`Doc`](https://spacy.io/api/doc) object) and yields pairs $(X, Y)$ of strings representing entity mentions predicted to be in the &lsquo;is-leader-of&rsquo; relation."
   ]
  },
  {
   "cell_type": "code",
   "execution_count": 6,
   "metadata": {
    "collapsed": true
   },
   "outputs": [],
   "source": [
    "import nltk, re\n",
    "def extract(doc):\n",
    "    \"\"\"Extract relevant relation instances from the specified document.\n",
    "    \n",
    "    Args:\n",
    "        doc: The sentence as analysed by spaCy.\n",
    "    Yields:\n",
    "        Pairs of strings representing the extracted relation instances.\n",
    "    \"\"\"\n",
    "    # TODO: Replace the following line with your own code\n",
    "    leader = re.compile(r'.*(lead|command|direct|govern|head|manage|preside|supervis|chief|patron).*')\n",
    "    person = None\n",
    "    org= None\n",
    "    ReturningString = []\n",
    "    for ent in doc.ents:\n",
    "        if ent.label_==\"PERSON\":\n",
    "            person = ent\n",
    "        else:\n",
    "            if ent.label_ == \"ORG\" and person != None:\n",
    "                org = ent\n",
    "                intervening_words = doc.text.split(\" \")[person.end:org.start]\n",
    "                intervening_sentence = \" \".join(intervening_words)\n",
    "                if re.search(leader, intervening_sentence):\n",
    "                    ReturningString.append((str(person), str(org)))\n",
    "                    person = None\n",
    "                    org = None\n",
    "    return(ReturningString)\n",
    "\n"
   ]
  },
  {
   "cell_type": "markdown",
   "metadata": {},
   "source": [
    "The following cell shows how your function is supposed to be used. The code prints out the extracted pairs for the first 1,000&nbsp;sentences in the data. It additionally numbers each pair with the identifier of the sentence (line number in the data file) which it was extracted from. Note that the sentence (line) numbering starts at index&nbsp;0."
   ]
  },
  {
   "cell_type": "code",
   "execution_count": null,
   "metadata": {
    "collapsed": true
   },
   "outputs": [],
   "source": []
  },
  {
   "cell_type": "code",
   "execution_count": 7,
   "metadata": {
    "scrolled": true
   },
   "outputs": [
    {
     "name": "stdout",
     "output_type": "stream",
     "text": [
      "207\tRugova\tEuropean Union\n",
      "283\tMichael Green\tthe U.S. National Security Council\n",
      "351\tJendayi Frazer\tSudan Liberation Army\n",
      "362\tDudley\tTNK-BP\n",
      "391\tMahmoud Abbas\tFatah\n",
      "512\tKyi\tthe National League for Democracy\n",
      "638\tHassan\tCARE\n",
      "802\tAsif Ali Zardari\tthe Pakistan People's Party\n"
     ]
    }
   ],
   "source": [
    "#for i, doc in enumerate(nlp.pipe(data)):\n",
    " #   if i == 1000:\n",
    "#        break\n",
    "#    for person, org in extract(doc):\n",
    "#        print(\"{}\\t{}\\t{}\".format(i, person, org))\n",
    "\n",
    "for i, doc in enumerate(nlp.pipe(tm2.read_data(data_file, n=1000))):\n",
    "    for person, org in extract(doc):\n",
    "        print(\"{}\\t{}\\t{}\".format(i, person, org))"
   ]
  },
  {
   "cell_type": "markdown",
   "metadata": {},
   "source": [
    "Once you feel confident that your `extract` function does what it is supposed to do, execute the following cell to extract the entities from the full data set. Note that this will probably take a few minutes."
   ]
  },
  {
   "cell_type": "code",
   "execution_count": 8,
   "metadata": {
    "collapsed": true
   },
   "outputs": [],
   "source": [
    "extracted = set()\n",
    "for i, doc in enumerate(nlp.pipe(tm2.read_data(data_file))):\n",
    "    for person, org in extract(doc):\n",
    "        extracted.add((i, person, org))"
   ]
  },
  {
   "cell_type": "markdown",
   "metadata": {},
   "source": [
    "After executing the above cell, all extracted id-string-string triples are in the set `extracted`. The code in the next cell will print the first 10&nbsp;triples in this set."
   ]
  },
  {
   "cell_type": "code",
   "execution_count": 9,
   "metadata": {},
   "outputs": [
    {
     "name": "stdout",
     "output_type": "stream",
     "text": [
      "207\tRugova\tEuropean Union\n",
      "283\tMichael Green\tthe U.S. National Security Council\n",
      "351\tJendayi Frazer\tSudan Liberation Army\n",
      "362\tDudley\tTNK-BP\n",
      "391\tMahmoud Abbas\tFatah\n",
      "512\tKyi\tthe National League for Democracy\n",
      "638\tHassan\tCARE\n",
      "802\tAsif Ali Zardari\tthe Pakistan People's Party\n",
      "1349\tKaren Hughes\tState Department\n",
      "1591\tFidel Castro\tthe Communist Party\n"
     ]
    }
   ],
   "source": [
    "for i, person, org in sorted(extracted)[:10]:\n",
    "    print(\"{}\\t{}\\t{}\".format(i, person, org))"
   ]
  },
  {
   "cell_type": "markdown",
   "metadata": {},
   "source": [
    "## Problem 2: Evaluate your system"
   ]
  },
  {
   "cell_type": "markdown",
   "metadata": {},
   "source": [
    "You now have an extractor, but how good is it? To help you answer this question, we provide you with a &lsquo;gold standard&rsquo; of entity pairs that your system should be able to extract. The following code loads them (again augmented with the relevant sentence id) from the file `gold.txt` and adds them to the set `gold`:"
   ]
  },
  {
   "cell_type": "code",
   "execution_count": 10,
   "metadata": {
    "collapsed": true
   },
   "outputs": [],
   "source": [
    "#gold_file = \"C:/Users/Carles/Desktop/MasterStatistics-MachineLearning/Master_subjects/Text_Mining/Labs/Lab2/gold.txt\"\n",
    "#gold_file = \"/home/carsa564/Desktop/TextMining/gold.txt\"\n",
    "gold_file = \"/home/TDDE16/labs/l2/data/gold.txt\"\n",
    "\n",
    "gold = set()\n",
    "with open(gold_file) as fp:\n",
    "    for line in fp:\n",
    "        columns = line.rstrip().split('\\t')\n",
    "        gold.add((int(columns[0]), columns[1], columns[2]))"
   ]
  },
  {
   "cell_type": "markdown",
   "metadata": {},
   "source": [
    "The following code prints the 10&nbsp;first pairs from the gold standard:"
   ]
  },
  {
   "cell_type": "code",
   "execution_count": 11,
   "metadata": {},
   "outputs": [
    {
     "name": "stdout",
     "output_type": "stream",
     "text": [
      "802\tAli Zardari\tPakistan People 's Party\n",
      "2297\tAbdul Aziz al-Hakim\tSupreme Council\n",
      "4823\tSlavkov\tBulgarian National Olympic Committee\n",
      "7902\tMr. Hakim\tSupreme Council\n",
      "8206\tJ. Patrick Boyle\tAmerican Meat Institute\n",
      "8633\tAli Rodriguez\tPetroleos de Venezuela\n",
      "9004\tForeign Minister Joschka Fischer\tGreen Party\n",
      "11021\tKhalaf\tal-Qaida\n",
      "11259\tJoseph Domenech\tU.N. 's Food and Agricultural Organization\n",
      "13043\tDavid Petraeus\tU.S. Central Command\n"
     ]
    }
   ],
   "source": [
    "for i, person, org in sorted(gold)[:10]:\n",
    "    print(\"{}\\t{}\\t{}\".format(i, person, org))\n"
   ]
  },
  {
   "cell_type": "markdown",
   "metadata": {},
   "source": [
    "Your task now is to write code that computes the precision, recall, and F1 measure of your extractor relative to the gold standard."
   ]
  },
  {
   "cell_type": "code",
   "execution_count": 12,
   "metadata": {
    "collapsed": true,
    "scrolled": false
   },
   "outputs": [],
   "source": [
    "def evaluate(reference, predicted):\n",
    "    \"\"\"Print out the precision, recall, and F1 for the id-entity-entity\n",
    "    triples in the set `predicted`, given the triples in the reference set.\n",
    "    \n",
    "    Args:\n",
    "        reference: The reference set of triples.\n",
    "        predicted: The set of predicted triples.\n",
    "    Returns:\n",
    "        Nothing, but prints out precision, recall, and F1.\n",
    "        Precision: Nº words predicted as NN which are NN in gold standard /sum(total of NN of predicted)\n",
    "        Recall:  Nº words predicted as NN which are NN in gold standard /sum(total of NN of Gold standard)\n",
    "        F1 for the id-entity-entity: 2*Precision*Recall/(Precision + Recall)\n",
    "    \"\"\"\n",
    "    #Calculating Length of both vectors\n",
    "    PredictedLen = len(predicted)\n",
    "    TrueLen = len(reference)\n",
    "    \n",
    "    #Calculating number of matches between both strings just by id\n",
    "    \n",
    "    TruePos = len(set.intersection(predicted , reference))\n",
    "    \n",
    "    Precision = TruePos/PredictedLen\n",
    "    Recall = TruePos/TrueLen            \n",
    "    F1 = 2*Precision*Recall/(Precision + Recall)\n",
    "    print(\"P:{}\\tR:{}\\tF1:{}\".format(Precision, Recall, F1))\n",
    "    \n",
    "\n"
   ]
  },
  {
   "cell_type": "code",
   "execution_count": 13,
   "metadata": {},
   "outputs": [
    {
     "data": {
      "text/plain": [
       "46"
      ]
     },
     "execution_count": 13,
     "metadata": {},
     "output_type": "execute_result"
    }
   ],
   "source": [
    "idPredicted=[i for i, person, org in extracted]\n",
    "idGold = [i for i, person, org in gold]\n",
    "len(set.intersection(set(idPredicted), set(idGold)))\n",
    "len(idGold)"
   ]
  },
  {
   "cell_type": "markdown",
   "metadata": {},
   "source": [
    "The next cell shows how your function is intended to be used, as well as the suggested output format."
   ]
  },
  {
   "cell_type": "code",
   "execution_count": 14,
   "metadata": {},
   "outputs": [
    {
     "name": "stdout",
     "output_type": "stream",
     "text": [
      "P:0.014527845036319613\tR:0.13043478260869565\tF1:0.0261437908496732\n"
     ]
    }
   ],
   "source": [
    "evaluate(gold, extracted)"
   ]
  },
  {
   "cell_type": "markdown",
   "metadata": {},
   "source": [
    "## Problem 3: Entity resolution"
   ]
  },
  {
   "cell_type": "markdown",
   "metadata": {},
   "source": [
    "Looking at the results of your quantitative evaluation, you will realise that your extractor (probably) does a rather poor job in matching the gold standard. One reason for this is that the NLP preprocessing is not perfect (spaCy was not trained on the annotations in the Groningen Meaning Bank), and that the approach of using regular expressions for relation extraction is rather naive.\n",
    "\n",
    "Another reason however is that the current version of your system does not include a component for *entity resolution*. To give an example, your system does not realise that the strings `David Petraeus` and `General David Petraeus` refer to the same entity.\n",
    "\n",
    "While writing an entity resolver is beyond the scope of this assignment, we ask you to *simulate* such a resolver. More specifically, you should implement a function `normalise` that takes an entity mention (a string) as its input and rewrites it to the form used in the gold standard. While in some sense this is &lsquo;cheating&rsquo;, it allows you to assess the performance of a more realistic system.\n",
    "\n",
    "The following cell contains skeleton code for the `normalise` function."
   ]
  },
  {
   "cell_type": "code",
   "execution_count": 15,
   "metadata": {
    "collapsed": true
   },
   "outputs": [],
   "source": [
    "def normalise(text):\n",
    "    if text == \"Asif Ali Zardari\":\n",
    "        return \"Ali Zardari\"\n",
    "    if text == \"the Supreme Council for the Islamic Revolution\":\n",
    "        return \"Supreme Council\"\n",
    "    if text == \"Joschka Fischer\":\n",
    "        return \"Foreign Minister Joschka Fischer\"\n",
    "    if text == \"U.N.\":\n",
    "        return \"U.N. 's Food and Agricultural Organization\"\n",
    "    if text == \"Lord\":\n",
    "        return \"Lord 's Resistance Army\"\n",
    "    if text == \"Chen Shui-bian\":\n",
    "        return \"President Chen Shui-bian\"\n",
    "    if text == \"Petraeus\":\n",
    "        return \"General Petraeus\"\n",
    "    if text == \"Fini\":\n",
    "        return \"Mr. Fini\"\n",
    "    if text == \"Mwanawasa\":\n",
    "        return \"Mr. Mwanawasa\"\n",
    "    if text == \"Abbas\":\n",
    "        return \"Mr. Abbas\"\n",
    "    if text == \"Coleman\":\n",
    "        return \"Mr. Coleman\"\n",
    "    if text == \"Ali\":\n",
    "        return \"Prince Ali\"\n",
    "    if text == \"Movement\":\n",
    "        return \"Movement for Islamic Reform\"\n",
    "    if text == \"David Petraeus\":\n",
    "        return \"General David Petraeus\"\n",
    "    if text == \"the Atomic Energy Organization\":\n",
    "        return \"Atomic Energy Organization\"   \n",
    "    if text == \"Lal Krishna\":\n",
    "        return \"Lal Krishna Advani\"\n",
    "    if text == \"Rafsanjani\":\n",
    "        return \"Mr. Rafsanjani\"\n",
    "    return text.lstrip(\"the \") \n",
    "    "
   ]
  },
  {
   "cell_type": "markdown",
   "metadata": {},
   "source": [
    "The next cell shows how `normalise` is intended to be used. Each triple in the set `extracted` is transformed by feeding the two entity mentions into the `normalise` function. The normalised triples are then added to a new set `extracted_normalised`."
   ]
  },
  {
   "cell_type": "code",
   "execution_count": 16,
   "metadata": {
    "collapsed": true
   },
   "outputs": [],
   "source": [
    "extracted_normalised = set()\n",
    "for triple in extracted:\n",
    "    extracted_normalised.add((triple[0], normalise(triple[1]), normalise(triple[2])))"
   ]
  },
  {
   "cell_type": "markdown",
   "metadata": {},
   "source": [
    "To pass the assignment, you should add enough normalisation rules to `normalise` to achieve a recall of at least 50%."
   ]
  },
  {
   "cell_type": "code",
   "execution_count": 17,
   "metadata": {},
   "outputs": [
    {
     "name": "stdout",
     "output_type": "stream",
     "text": [
      "P:0.06295399515738499\tR:0.5652173913043478\tF1:0.11328976034858387\n"
     ]
    }
   ],
   "source": [
    "evaluate(gold, extracted_normalised)"
   ]
  },
  {
   "cell_type": "markdown",
   "metadata": {},
   "source": [
    "## Problem 4: Limitations of the gold standard"
   ]
  },
  {
   "cell_type": "markdown",
   "metadata": {},
   "source": [
    "Each entity pair in the gold standard has been manually checked for correctness. However, there is no guarantee that the gold standard contains all relevant pairs &ndash; there are in fact many pairs that are missing from the gold standard. Your last task in this assignment is to find at least 5&nbsp;entity pairs in the data that are valid instances of the &lsquo;is-leader-of&rsquo; relation but are not contained in the gold standard.\n",
    "\n",
    "You can solve this task either by writing code or by manual work (inspecting the data file), or mix the two strategies. In any case, you should enter your pairs in the textbox below. Use the triple format shown above where for each pair you also specify the sentence id (line number in the data file) from which the instance was extracted."
   ]
  },
  {
   "cell_type": "code",
   "execution_count": 18,
   "metadata": {},
   "outputs": [
    {
     "name": "stdout",
     "output_type": "stream",
     "text": [
      "207 Rugova European Union\n",
      "283 Michael Green the U.S. National Security Council\n",
      "351 Jendayi Frazer Sudan Liberation Army\n",
      "362 Dudley TNK-BP\n",
      "391 Mahmoud Abbas Fatah\n",
      "512 Kyi the National League for Democracy\n",
      "638 Hassan CARE\n",
      "1349 Karen Hughes State Department\n",
      "1591 Fidel Castro the Communist Party\n",
      "1790 Koizumi the United Nations\n",
      "1966 Lech Walesa Solidarity\n",
      "2350 Basayev Nalchik\n",
      "2477 Ismail Haniyeh Fatah\n",
      "2982 Musharraf Islamist\n",
      "3053 John Gai Yoh the Sudanese Liberation Movement\n",
      "3291 Krasniqi the Kosovo Protection Corps\n",
      "3543 Hassan Care International\n",
      "4324 Ma Zhenchuan the Beijing Municipal Public Security Bureau\n",
      "4567 Bush the U.S. Justice Department\n",
      "4692 Heliodoro Diaz House of Representatives\n",
      "4699 Agim Ceku the Kosovo Protection Corps\n",
      "4753 Junichiro Koizumi APEC\n",
      "5046 Daniel Pearl Al-Qaida\n",
      "5082 Gul the AK Party\n",
      "5255 Ayman Nour Noaman Gomaa\n",
      "5450 Nicolas Sarkozy Group of Eight and Group\n",
      "5507 Li Jianzhong the Chinese Academy of Carrier Rocket Technology\n",
      "5522 Kofi Annan the Security Council\n",
      "5762 Yuan Baojing Jianhao Group\n",
      "5796 Tracy McGrady the Houston Rockets\n",
      "6142 Blair Cyprus\n",
      "6276 Bush Al-Jazeera\n",
      "6297 Putin NATO\n",
      "6517 Tony Snow United Nations Security Council\n",
      "6526 Silva Congress\n",
      "7579 Alexander Lukashenko NATO\n",
      "7755 Mikhail Khodorkovsky Yukos\n",
      "7788 Alpha Oumar U.N.\n",
      "7917 Vladimir Putin the Group of\n",
      "7932 Prince Harry Scimitar\n",
      "8086 Porter Goss' CIA\n",
      "9021 Hassan Halemi Kabul University\n",
      "9046 Hamid Karzai's Taleban\n",
      "9047 Karzai Taleban\n",
      "9049 Negroponte the Organization of American States General Assembly\n",
      "9051 Negroponte the Merida Initiative\n",
      "9063 Khin Nyunt NIB\n",
      "9103 Mohammad Saeedi Atomic Energy Organization\n",
      "9364 Kony Lord\n",
      "9375 Harlan David Sanders Colonel Sanders\n",
      "9448 Benon Sevan U.N.\n",
      "9495 Tom DeLay the House of Representatives\n",
      "9731 Pedro Esquisabel Urtuzaga ETA\n",
      "9999 Frank Sainworla VOA\n",
      "10002 Mushir al-Masri Hamas\n",
      "10062 Solana the 57-member Organization of\n",
      "10113 Al Aqsa Martyrs' Fatah\n",
      "10231 Pervez Musharraf Non- Aligned Movement\n",
      "10294 Harry Thomas the U.S. Foreign Service\n",
      "10441 Mohamed ElBaradei the International Atomic Energy Agency\n",
      "10490 Stronach Magna\n",
      "10496 Stronach Parliament\n",
      "11006 Bush the Group of\n",
      "11062 Alexi Barinov Nenets\n",
      "11334 Omar Suleiman Khaled Meshaal\n",
      "11487 Atta Mohammed Taleban\n",
      "11527 Jannati Guardian Council\n",
      "11679 Moldova the Communist Party's\n",
      "12048 Asghari Revolutionary Guards\n",
      "12080 Haim Ramon Kadima Party\n",
      "12320 Hamid Karzai Supreme Court\n",
      "12369 Guillaume Soro the New Forces\n",
      "12373 Costis Stephanopoulos Cyprus\n",
      "12387 Yawar the Sunni Muslim\n",
      "12618 Merkel the African Union\n",
      "12655 Musharraf Iftikhar Muhammad Chaudhry\n",
      "12700 Hamid Karzai Taleban\n",
      "12721 Kouchner EU\n",
      "12760 Stan O'Neal Merrill Lynch\n",
      "12880 Arlan Ettinger Auction House\n",
      "12997 Paul Wolfowitz the World Bank\n",
      "12999 Wolfowitz Bank\n",
      "13042 Hamid Karzai's NATO\n",
      "13044 McChrystal Rolling Stone\n",
      "13286 Ann Dunwoody Pentagon\n",
      "13563 Hamid Karzai CARE\n",
      "13571 Struck the European Union\n",
      "13637 Zardari People's Party\n",
      "13863 Alvaro Uribe FARC\n",
      "13932 Roh Moo-Hyun APEC\n",
      "14019 Salif Sadio Democratic Forces Movement\n",
      "14130 DeLay House\n",
      "14155 Mehmet Ali Talat the National Unity Party\n",
      "14156 Talat the Greek Cypriot\n",
      "14440 John Lipsky IMF\n",
      "14784 Levin Congress\n",
      "14855 Gerry Adams IRA\n",
      "15433 Singh Indian-\n",
      "16235 Bush APEC\n",
      "16397 Ariel Sharon Hamas\n",
      "16454 Alito Union\n",
      "16602 Wolfgang Schuessel EU\n",
      "16603 Tony Blair EU\n",
      "16772 Sanader Journalists Association\n",
      "17178 Shamil Basayev kavkazcenter.com\n",
      "17446 Chen the Taiwan Strait\n",
      "17555 Jose Miguel Radio Caracas Television\n",
      "17643 Ban Ki-moon U.N.\n",
      "17706 Alejandro Toledo Free Trade Area\n",
      "17848 Brad Adams HRW\n",
      "17867 Ali Saeedlou Oil Ministry\n",
      "17981 Omar Hamra Tawhid Wal Jihad\n",
      "18039 Yushchenko Ukraine\n",
      "18248 Clyburn Congress\n",
      "18520 Goss CIA\n",
      "18859 Hamid Karzai Independent Election Commission\n",
      "19133 Marco Materazzi FIFA\n",
      "19155 Karen Hughes PepsiCo\n",
      "19386 Javad Vaeedi National Security Council\n",
      "19681 Jerry Adams IRA\n",
      "19774 Weah United Nations\n",
      "19834 Hamid KARZAI the National Assembly\n",
      "19865 Laden Islam\n",
      "20072 Martic Republic of Serbian Krajina\n",
      "20270 Tony Blair the Irish Republican Army\n",
      "20273 Gerry Adams IRA\n",
      "20557 Yushchenko Ukraine's\n",
      "20815 Mohammed Wall Street Journal\n",
      "20982 Leigh Naked\n",
      "21153 Fred Eckhard UN\n",
      "21338 Rice Hamas\n",
      "21828 Nicolas Sarkozy Union for a Popular Movement\n",
      "21866 David Crane Guinean President\n",
      "21925 Sarah Obama Barack Obama\n",
      "22019 Menem Thales Spectrum\n",
      "22022 Menem Thales Spectrum\n",
      "22136 Clinton the Central Intelligence Agency\n",
      "22137 Leon Panetta CIA\n",
      "22192 Franz Klammer Nike Bent\n",
      "22755 Arafat Palestine Liberation Organization\n",
      "22844 Jacob ZUMA ANC\n",
      "22849 Paulson Goldman Sachs\n",
      "22861 Michel Barnier European Union\n",
      "22981 Mahmoud Abbas Hamas\n",
      "23040 Bush AIDS\n",
      "23204 Viktor Yushchenko Petro Verbytsky\n",
      "23530 Abdel Wahid Nur the Jebel Marra\n",
      "23542 Rumsfeld Second Artillery Corps\n",
      "23687 Clinton al-Qaida\n",
      "23824 Hassan Care International\n",
      "24167 Barack Obama the U.N. General Assembly\n",
      "24407 Amin al-Hindi the Israeli Olympics\n",
      "25100 Masri Vice President\n",
      "25103 Masri al-Qaida\n",
      "25228 Michael Hayden the Central Intelligence Agency\n",
      "25292 Mutharika the United Democratic Party\n",
      "25299 Vladimir Putin's Kremlin\n",
      "25415 Moussa Shi'ite\n",
      "25512 Peyton Manning Lions\n",
      "25567 Zheng Xinmiao National Palace Museum\n",
      "25815 Salihu Abubakar the Nigerian Premier League\n",
      "25839 Dalil Boubakeur the French Council of the Muslim Faith\n",
      "26170 Bush Army\n",
      "26323 Mehdi Karroubi the Revolutionary Guards Mohsen Rezai\n",
      "26443 Tom Delay Congress\n",
      "26597 Zoellick the World Bank\n",
      "26812 Mullah Omar Taleban\n",
      "26906 Hakimi Taleban\n",
      "27097 Mahmoud Zahar the Palestinian Authority\n",
      "27555 Abbas the Palestinian Authority\n",
      "27765 Yushchenko Roman Bezsmertniy\n",
      "27940 Mehmet Ali Talat Cyprus\n",
      "28029 Cheney Congress\n",
      "28047 Joseph Terrence Thomas al-Qaida\n",
      "28554 Gul the AK Party\n",
      "28833 Hamid Karzai NATO\n",
      "29139 Mullah Brader Taleban\n",
      "29979 Vieira Malam Bacai Sanha\n",
      "30026 Charles Duelfer the Iraq Survey Group\n",
      "30115 Anup Raj Sharma Nepal FM\n",
      "30128 Loeb Subaru\n",
      "30157 Muentefering Christian Democrat\n",
      "30417 Jack Hooper the Canadian Security Intelligence Service\n",
      "30511 Bill Clinton H.I.V.\n",
      "30540 KIM Jong Il KIM\n",
      "30713 Thomas Fargo the U.S. Pacific Command\n",
      "30777 Gerhard Schroeder Christian Democratic Union\n",
      "31125 Kofi Annan the Group of Eight Industrialized\n",
      "31354 Bush the State Department\n",
      "31883 Smigun Marit Bjoergen of\n",
      "32183 Ayatollah Ali Khamenei Hamas\n",
      "32184 Ayatollah Khamenei Hamas\n",
      "32195 Bolton U.N.\n",
      "32389 Paul Volcker U.N.\n",
      "32406 Hamid Karzai NATO\n",
      "32535 Bush U.N.\n",
      "32616 Ibrahim Ferrer Buena Vista Social Club\n",
      "32733 Andrei Illarionov Yukos\n",
      "32825 Bharat Patel the Supreme Court\n",
      "32840 Janda Janne Ahonen\n",
      "33440 Hu Saudi Basic Industries Corporation\n",
      "34084 John Ging the U.N. Relief and Works Agency\n",
      "34230 Benedict Islam\n",
      "34251 Wolfowitz the Washington-\n",
      "34286 Sonntag EU\n",
      "34586 Cristina Comencini La Bestia Nel Cuore\n",
      "34883 Jonathan Evans the Muslim Council of Britain\n",
      "34885 Chung Mong-joon Asian Football Confederation\n",
      "34886 Chung the Korea Football Association\n",
      "35067 Ismail Haniyeh the Palestinian Authority\n",
      "35147 Meni Mazuz Sharon\n",
      "35288 Sharon Knesset\n",
      "35362 Kim Assistant Secretary of\n",
      "35769 Arnold Schwarzenegger Conservative Party\n",
      "36057 Mullah Omar's Taleban\n",
      "36205 Vigilant Eagle Elmendorf\n",
      "36309 Tom Lantos - a Democrat the Supreme People's Assembly\n",
      "36362 Deby the Rally for Democracy and Liberty\n",
      "36418 Mutharika the United Political Party\n",
      "36587 Betancourt FARC\n",
      "36799 Olmert Bank Leumi\n",
      "36893 Rosneft Yuganskneftegas\n",
      "37076 Bill Clinton U.N.\n",
      "37402 Saddam Hussein's Christian Democratic\n",
      "37409 Olusegun Obasanjo the Group of\n",
      "37521 Romano Prodi the U.N. Security Council\n",
      "37865 Raul Gibb Guerrero La Opinion\n",
      "37914 Sébastien Loeb the World Rally Championship\n",
      "38208 Alexei Miller the Azeri State Oil Company\n",
      "38415 Yushchenko Ukraine\n",
      "38559 Mardy Fish Davis Cup\n",
      "38769 Mahmoud Abbas Hamas\n",
      "38773 Abbas the Palestinian Authority\n",
      "39051 Tom Ridge Homeland Security\n",
      "39224 Zuma the World Cup\n",
      "39888 Choe Su Hon U.N.\n",
      "40102 Celine Dion Caesar\n",
      "40315 John Solecki U.N.\n",
      "40372 Mahmoud Ahmadinejad Supreme National Security Council\n",
      "40460 Mohamed GHANNOUCHI the Chamber of Deputies\n",
      "40611 Ali Larijani IAEA\n",
      "41032 Viktor Yanukovych the Supreme Court\n",
      "41054 Goss CIA\n",
      "41056 Goss al-Qaida\n",
      "41375 Bush Social Security\n",
      "41379 Scott McClellan Social Security\n",
      "41702 al-Aqsa the Palestinian Authority\n",
      "41734 Peng Shuai Michaella Krajicek\n",
      "42115 John Holmes the U.N. of\n",
      "42277 Bush the United Nations General Assembly\n",
      "42281 Jacques Chirac the U.N. Security Council's\n",
      "42349 Vicente FOX the Institutional Revolutionary Party\n",
      "42405 Abdul Haq U.S. Afghan\n",
      "42563 Sharon Likud\n",
      "43348 Bush the International Atomic Energy Agency\n",
      "43377 Haradinaj Albanian Kosovo Liberation Army\n",
      "43491 Humberto Valbuena the Revolutionary Armed Forces of\n",
      "43516 Bill The Global Alliance\n",
      "43680 Thabo Mbeki MDC\n",
      "43740 Francois Grignon ICG\n",
      "43850 Yoweri Museveni Lord\n",
      "44036 Alexander Downer al-Qaida\n",
      "44305 Roger Noriega a World Bank\n",
      "44535 Chavez the Bolivarian Alternative\n",
      "44685 William C. Walbrecher Jr. Citadel Holding Corp.\n",
      "44894 Abdel Rahim Hussein the United Nations\n",
      "44952 Dominique de Villepin Interior\n",
      "44970 Aref Baathist Party\n",
      "45407 Arroyo Lieutenant-General\n",
      "45439 Mahmoud Abbas Mustafa Barghouti\n",
      "45616 Getulio Vargas Petrobras\n",
      "45727 Abbas the Palestinian Authority\n",
      "45788 Andres Valencia ELN\n",
      "45808 Clinton Senate\n",
      "45959 Minuteman the Washington Times\n",
      "46405 Mogadishu the U.N. Development Program for Somalia\n",
      "46516 Ayman Nour Noaman Gomaa\n",
      "46560 Benjamin Raich World Cup\n",
      "46620 Vladimir Popovkin Space Forces\n",
      "46736 Shimon Peres Labor\n",
      "46977 Rowhani the European Union\n",
      "47046 Adel al-Zubeidi Taha Yassin Ramadan\n",
      "47786 Abbas the Palestinian Authority\n",
      "47798 Li Rui the Communist Party's\n",
      "47909 Vazquez Broad Front\n",
      "47912 Vazquez the Broad Front\n",
      "48091 Aftab Khan Sherpao Taleban\n",
      "48166 Moreno-Ocampo Humanitarian Affairs Minister\n",
      "48193 Mohamed ElBaradei the International Atomic Energy Agency\n",
      "48229 Hamid Karzai EU\n",
      "48373 Ariel Sharon Labor Party\n",
      "48584 Condoleezza Rice AIDS\n",
      "48824 Ariel Sharon Likud\n",
      "48937 Marwan Barghouti the Palestinian Authority\n",
      "49094 Nick Marinellis Mondayinthe New South Wales District Court\n",
      "49219 Nancy Pelosi NSA\n",
      "49858 Gongadze Leonid Kuchma\n",
      "49871 Desmond de Silva the United Nations-\n",
      "49940 Luis Carlos FARC\n",
      "50005 Abbas the Palestinian Authority\n",
      "50150 Jacques Chirac United Nations\n",
      "50364 Pronk the International Criminal Court\n",
      "50444 Ehud Olmert Likud\n",
      "50561 Yusuf Raza Gilani MQM\n",
      "50790 Bruno Gollnisch National Front Party\n",
      "51274 Lowey the House Appropriations\n",
      "51861 Clinton AIDS\n",
      "52248 Ulrich Wilhelm NATO\n",
      "52328 Mohammad Osmani Taleban\n",
      "52414 Kazem Jalali Foreign Policy\n",
      "52988 Bush the U.S. Justice Department\n",
      "53078 Raul Castro Barack Obama\n",
      "53168 Nawaz Sharif the Pakistan Muslim League\n",
      "53408 William Rehnquist the Supreme Court\n",
      "53680 Mukasey the Central Intelligence Agency\n",
      "53701 Salam FAYYAD PA\n",
      "53885 Ta Mok the Tuol Sleng\n",
      "54055 Abdel Hussein al-Hindawi the United Nations\n",
      "54098 Ahmet Turk Democratic Society Party\n",
      "54220 Ndjabu Integrationist Front\n",
      "54359 Hu CPPCC\n",
      "54361 Tung CPPCC\n",
      "54502 Cheney Senate\n",
      "54936 Yuganskneftegas Yukos\n",
      "55036 Francisco Flores the Organization of America States\n",
      "55096 Ariel Sharon the Palestinian Authority\n",
      "55115 Raul Reyes FARC\n",
      "55276 Inforadio the U.N. Security Council\n",
      "55744 Chen the Taiwan Strait\n",
      "55807 Chavez Uruguay\n",
      "55897 Vladimir Putin's Kremlin\n",
      "55946 Congressman Mack's Telesur\n",
      "56008 Mahmoud Abbas Hamas\n",
      "56011 Abbas Hamas\n",
      "56028 Mahmud Abbas Hamas\n",
      "56041 Madrazo PRI\n",
      "56276 Bush the State Department\n",
      "56626 Nicolas Schmit EU\n",
      "56686 Saddam Hussein's Taha Yassin Ramadan\n",
      "56769 Michael Scheuer CIA\n",
      "56975 Bingu wa MUTHARIKA the Democratic Progressive Party\n",
      "57003 Chirac EU\n",
      "57127 Peter Feith EU\n",
      "57266 Tim Harcourt Australian Trade Commission\n",
      "57378 al-Baghdadi al-Qaida\n",
      "57623 al-Qaida Taleban\n",
      "57778 Tony Blair Olympic\n",
      "57869 Hamid Karzai Independent Election Commission\n",
      "57983 Bush the World Health Organization\n",
      "57989 Frenk Guni HIV-AIDS\n",
      "58001 Bush Congress\n",
      "58034 Fox Western Hemisphere\n",
      "58191 Chavez Radio Caracas Television\n",
      "58378 Uribe FARC\n",
      "58399 Sergei Ivanov NATO\n",
      "58576 Chirac EU\n",
      "58639 Bush the State Department\n",
      "58860 Ali Shah Ahmadza Taleban\n",
      "59039 Abdullah Gul the European Union\n",
      "59063 Malcolm Rifkind the Conservative Party\n",
      "59364 Silvan Shalom Cabinet\n",
      "59366 Netanyahu Likud\n",
      "59377 Jean-Bertrand ARISTIDE the United Nations Stabilization Mission\n",
      "59443 Mikhail Khodorkovsky Yukos\n",
      "60109 Hersh Pentagon\n",
      "60180 Jan Peter Balkenende Cyprus\n",
      "60181 Balkanende EU\n",
      "60192 Valdas Adamkus EU\n",
      "60317 Wen Jiabao State\n",
      "60412 Bush Medicare\n",
      "60751 Hugo Chavez Cabinet\n",
      "60761 Alito Senate\n",
      "60762 Jacques Chirac Hamas\n",
      "60847 Mir Hossein Mousavi Islam\n",
      "60858 Claire Buchan Secret Service\n",
      "61023 Dominique McAdams U.N.\n",
      "61335 Stephen Chu the Lawrence Berkeley National Laboratory\n",
      "61340 Jackson EPA\n",
      "61468 Ban the United Nations\n",
      "61469 Ban NATO\n",
      "61476 Bashir the International Criminal Court\n",
      "61627 M. Morshed Khan the United Nations\n"
     ]
    }
   ],
   "source": [
    "## Finding all matches that are not gold standard \n",
    "idPredicted=[i for i, person, org in extracted]\n",
    "idGold = [i for i, person, org in gold]\n",
    "ids = set(idPredicted) - set(idGold)#Opposite to intersect\n",
    "\n",
    "for i, person, org in sorted(extracted):\n",
    "    for index in ids:\n",
    "        if index == i:\n",
    "            print(i, person, org)\n",
    "            "
   ]
  },
  {
   "cell_type": "raw",
   "metadata": {},
   "source": [
    "1591 Fidel Castro the Communist Party\n",
    "1966 Lech Walesa Solidarity\n",
    "4692 Heliodoro Diaz House of Representatives\n",
    "4699 Agim Ceku the Kosovo Protection Corps\n",
    "8086 Porter Goss' CIA"
   ]
  },
  {
   "cell_type": "markdown",
   "metadata": {},
   "source": [
    "Finally we ask you to reflect on the limitations of the evaluation that you carried out in this lab and discuss the question: *How should systems for information extraction really be evaluated?*. Here are some starting points for your discussion.\n",
    "\n",
    "* How could one create a better gold standard for this task?\n",
    "* What do precision, recall, and F1 actually measure in this context?\n",
    "* What measures would be more suitable to evaluate this task?\n",
    "* What other ways of evaluating systems for information extraction can you think of?\n",
    "\n",
    "Submit your discussion as a short text (ca. 250&nbsp;words). When presenting your arguments, link back to your own results and experience from this lab, and to concepts you have learned in the lectures or in other parts of the course."
   ]
  },
  {
   "cell_type": "markdown",
   "metadata": {},
   "source": [
    "In order to improve the gold standard, one could have linguistic professionals who evaluate all the sentences manually. Moreover, synonyms of the expression \"is leader of \" could be used. Also, we could evaluate sentences not only in the \"PERSON\" \"ORG\" sequence but also viceversa in order to extract more relations that are inversed. \n",
    "\n",
    "In this context, precision is the fraction between the predicted pairs which are matched in the gold standard  divided by the total predicted pairs; recall is the fraction between the predicted pairs which are matched in the gold standard  divided by the total entity pairs in the gold standard; and F1 score is a combination of both such that 2*Precision*Recall/(Precision + Recall). \n",
    "\n",
    "If we want to match all pairs from the gold standard, the recall is the best measure; if we wanted to evaluate how optimal our function is, then the precision is the measure we are looking for; and if we wanted to optimize both measures then F1 is what we are looking for. Another measure that could be used are the Youden's J statistic as it also takes into account True negatives (whereas F1 does not), or rather just reporting the confusion matrix to see the overall error scheme. Also, accuracy could be a measure that could be complementary to our current measures.\n",
    "\n",
    "Other ways of evaluating systems for information extraction could be a comparison of different machine learning methods for pair finding,  for the purpose of evaluating results (in this case, similar results)."
   ]
  },
  {
   "cell_type": "markdown",
   "metadata": {},
   "source": [
    "This is the end of the assignment."
   ]
  }
 ],
 "metadata": {
  "kernelspec": {
   "display_name": "Python 3",
   "language": "python",
   "name": "python3"
  },
  "language_info": {
   "codemirror_mode": {
    "name": "ipython",
    "version": 3
   },
   "file_extension": ".py",
   "mimetype": "text/x-python",
   "name": "python",
   "nbconvert_exporter": "python",
   "pygments_lexer": "ipython3",
   "version": "3.6.3"
  }
 },
 "nbformat": 4,
 "nbformat_minor": 2
}
