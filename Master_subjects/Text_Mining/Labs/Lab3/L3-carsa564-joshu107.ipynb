{
 "cells": [
  {
   "cell_type": "markdown",
   "metadata": {},
   "source": [
    "## L3: Topic Models\n",
    "### 732A92/TDDE16 Text Mining\n",
    "Måns Magnusson"
   ]
  },
  {
   "cell_type": "markdown",
   "metadata": {},
   "source": [
    "The purpose of this lab is to implement the standard Gibbs sampling algorithm for Latent Dirichlet Allocation in Python. You will be supplied starter code, a smaller corpus with State of the Union addresses for the period 1975 to 2000 by paragraph and a list with English stopwords. The code is implemented as a class, TopicModel, where you are expected to replace central parts of the code with your own implementations."
   ]
  },
  {
   "cell_type": "markdown",
   "metadata": {},
   "source": [
    "### 1. Sampling\n",
    "\n",
    "Implement the basic collapsed Gibbs sampling algorithm for Latent Dirichlet Allocation. Use the starter code and add the components that is missing (the sampler part). We use the fact that \n",
    "\n",
    "$$p(z_{i}=k)\\propto\\left(\\alpha+n_{d,k}^{(d)}\\right)\\frac{\\left(\\beta+n_{k,w_{i}}^{(w)}\\right)}{\\sum^{V}\\left(\\beta+n_{k,w_{i}}^{(w)}\\right)}=\\left(\\alpha+n_{d,k}^{(d)}\\right)\\frac{\\left(\\beta+n_{k,w_{i}}^{(w)}\\right)}{V\\beta+n_{k}}$$\n",
    "\n",
    "to simplify computations, where $K$ is the number of topics, $V$ is the vocabulary size and $D$ is the number of documents. $\\mathbf{n}^{(d)}$ is a count matrix of size $D\\times K$ with the number of topic indicators by document, $d$, and topic $k$, $\\mathbf{n}^{(w)}$ is a count matrix of size $K\\times V$ with the number of topic indicators by topic, $k$, and word type, $w$. $\\mathbf{n}$ is a topic indicator count vector of length $K$ that contain the number of topic indicators in each topic. The detailed algorithm can be found below:"
   ]
  },
  {
   "cell_type": "markdown",
   "metadata": {},
   "source": [
    "# __Data:__ tokenized corpus $\\mathbf{w}$, priors $\\alpha, \\beta$ <br>\n",
    "__Result:__ topic indicators $\\mathbf{z}$\n",
    "\n",
    "Init topic indicators $\\mathbf{z}$ randomly per token<br>\n",
    "Init topic probability vector $\\mathbf{p}$<br>\n",
    "Sum up $\\mathbf{z}$ to $\\mathbf{n}^{w}$, the topic type count matrix of size ($K \\times V$)<br>\n",
    "Sum up $\\mathbf{z}$ to $\\mathbf{n}^{d}$, the document topic count matrix of size ($D \\times K$)<br>\n",
    "Sum up $\\mathbf{z}$ to $\\mathbf{n}$, the topic count vector of length ($K$)<br>\n",
    "\n",
    "for $g \\leftarrow 1$ __to__ _no_\\__iterations_ __do__<br>\n",
    "&emsp;&emsp;// Iterate over all tokens<br>\n",
    "&emsp;&emsp;for $i \\leftarrow 1$ __to__ $N$ __do__<br>\n",
    "&emsp;&emsp;&emsp;&emsp;// Remove current topic indicator $z_i$ from $\\mathbf{n}^{w}$, $\\mathbf{n}^{d}$ and $\\mathbf{n}$<br>\n",
    "&emsp;&emsp;&emsp;&emsp;$n^{(w)}_{z_i,w_i}$ =- 1, $n^{(d)}_{d_i,z_i}$ =- 1, $n_{z_i}$ =- 1<br>\n",
    "&emsp;&emsp;&emsp;&emsp;for $k \\leftarrow 1$ __to__ $K$ __do__<br>\n",
    "&emsp;&emsp;&emsp;&emsp;&emsp;&emsp;// Compute the unnormalized probability of each topic indicator<br>\n",
    "&emsp;&emsp;&emsp;&emsp;&emsp;&emsp;$\\mathbf{p}_k \\leftarrow \\left(\\alpha+n_{d,k}^{(d)}\\right)\\frac{\\left(\\beta+n_{k,w_{i}}^{(w)}\\right)}{\\left(V\\beta+n_{k}\\right)}$<br>\n",
    "&emsp;&emsp;&emsp;&emsp;__end__<br>\n",
    "&emsp;&emsp;&emsp;&emsp;// Sample the topic indicator<br>\n",
    "&emsp;&emsp;&emsp;&emsp;$z_i \\leftarrow $ Categorical($\\mathbf{p}$)<br>\n",
    "&emsp;&emsp;&emsp;&emsp;// Add the new topic indicator $z_i$ to $\\mathbf{n}^{w}$, $\\mathbf{n}^{d}$ and $\\mathbf{n}$<br>\n",
    "&emsp;&emsp;&emsp;&emsp;$n^{(w)}_{z_i,w_i}$ =+ 1, $n^{(d)}_{d_i,z_i}$ =+ 1, $n_{z_i}$ =+ 1<br>\n",
    "&emsp;&emsp;__end__<br>\n",
    "__end__"
   ]
  },
  {
   "cell_type": "raw",
   "metadata": {},
   "source": [
    "For a complete derivation of the collapsed Gibbs sampler for LDA, see https://lingpipe.files.wordpress.com/2010/07/lda3.pdf."
   ]
  },
  {
   "cell_type": "code",
   "execution_count": 1,
   "metadata": {},
   "outputs": [],
   "source": [
    "import numpy, random, scipy.special\n",
    "from tm3 import LDAGibbs\n",
    "\n",
    "class MyGibbs(LDAGibbs):\n",
    "    \n",
    "    def initialize_matrices(self):\n",
    "        \"\"\"Initializes numpy arrays for the matrix computations performed\n",
    "        by the sampler during the MCMC process.\"\"\"\n",
    "        ## Set up numpy matrices\n",
    "        self.term_topics = numpy.zeros((self.num_terms, self.num_topics)) #n_w\n",
    "        self.doc_topics = numpy.zeros((self.num_docs, self.num_topics)) #n_d\n",
    "        self.topic_totals = numpy.zeros(self.num_topics) #K\n",
    "        self.doc_totals = numpy.zeros(self.num_docs) #D\n",
    "        ## Initialize topics randomly\n",
    "        for doc_id in range(self.num_docs):\n",
    "            doc = self.docs[doc_id]\n",
    "            ## Create an array of random topic assignments\n",
    "            doc['topics'] = list(map(lambda x: random.randrange(self.num_topics), doc['tokens']))\n",
    "            ## Construct the initial summary statistics\n",
    "            doc_length = len(doc['tokens'])\n",
    "            for i in range(doc_length):\n",
    "                token = doc['tokens'][i]\n",
    "                topic = doc['topics'][i]\n",
    "                self.term_topics[token][topic] += 1 # n_wk\n",
    "                self.doc_topics[doc_id][topic] += 1 # n_dk\n",
    "                self.topic_totals[topic] += 1       # n_k\n",
    "                self.doc_totals[doc_id] += 1\n",
    "        ## Printout to check that everything is coherent\n",
    "#         print(sum(sum(self.doc_topics)))\n",
    "#         print(sum(sum(self.term_topics)))\n",
    "#         print(sum(self.topic_totals))\n",
    "#         print(sum(self.doc_totals))\n",
    "        #print(self.term_topics)\n",
    "\n",
    "\n",
    "    def read_documents(self, filename):\n",
    "        \"\"\"Reads documents from a file, filters stop words and initializes\n",
    "        the vocabulary. Also converts tokens to integer term IDs.\"\"\"\n",
    "        self.vocab = []\n",
    "        self.vocab_ids = {}\n",
    "        self.total_tokens=0 \n",
    "        with open(filename) as f:\n",
    "            for line in f:\n",
    "                line = line.replace(\".\", \" \").replace(\",\", \" \").lower()\n",
    "                self.num_docs += 1\n",
    "                tokens = []\n",
    "                for w in line.split():\n",
    "                    if not w in self.stoplist:\n",
    "                        self.total_tokens += 1\n",
    "                        if w in self.vocab_ids:\n",
    "                            tokens.append(self.vocab_ids[w])\n",
    "                        else:\n",
    "                            term_id = len(self.vocab)\n",
    "                            self.vocab.append(w)\n",
    "                            self.vocab_ids[w] = term_id\n",
    "                            tokens.append(term_id)\n",
    "                self.doc_snippets.append(line[:200])\n",
    "                self.docs.append({ 'tokens': tokens })\n",
    "        self.num_terms = len(self.vocab)\n",
    "        print(\"Read {} documents with a total of {} terms\".format(self.num_docs, self.num_terms))\n",
    "    \n",
    "    def __init__(self,\n",
    "                 num_topics,\n",
    "                 docs_file_name,\n",
    "                 stop_list_file_name = None):\n",
    "        self.num_topics = num_topics\n",
    "        self.num_docs = 0\n",
    "        self.doc_snippets = []\n",
    "        self.docs = []\n",
    "        ## Prepare list of stopwords\n",
    "        self.stoplist = dict()\n",
    "        if stop_list_file_name != None:\n",
    "            with open(stop_list_file_name) as f:\n",
    "                for line in f:\n",
    "                    word = line.rstrip()\n",
    "                    self.stoplist[word] = 1\n",
    "        self.read_documents(docs_file_name)\n",
    "        self.initialize_matrices()\n",
    "    \n",
    "    def print_topics(self, j):\n",
    "        \"\"\"Prints topic distributions for the.\"\"\"\n",
    "        for i in range(self.term_topics.shape[1]):\n",
    "            indexes = self.term_topics[:,i].argsort()[-j:][::-1] #top j\n",
    "            z =[]\n",
    "                        \n",
    "            for number in indexes:\n",
    "                \n",
    "                z.append(\"{} [{}]\".format(self.vocab[number], self.term_topics[number,i]))\n",
    "            print(\" ,\".join(z))\n",
    "        #super().print_topics(j)\n",
    "            \n",
    "    def make_draw(self, alpha, beta):\n",
    "        \"\"\"Makes a single draw from the posterior distribution in an MCMC fashion.\"\"\"\n",
    "            \n",
    "        for doc_id in range(self.num_docs):\n",
    "            \n",
    "            doc = self.docs[doc_id]\n",
    "            doc_length = len(doc['tokens'])\n",
    "            for i in range(doc_length):\n",
    "                token = doc['tokens'][i]\n",
    "                topic = doc['topics'][i]\n",
    "                self.term_topics[token][topic] -= 1 # n_wk\n",
    "                self.doc_topics[doc_id][topic] -= 1 # n_dk\n",
    "                self.topic_totals[topic] -= 1       # n_k\n",
    "                p = numpy.zeros(self.num_topics)\n",
    "                for k in range(self.num_topics):\n",
    "                        num = (alpha + self.doc_topics[doc_id][k])*(beta + self.term_topics[token][k])\n",
    "                        den =(self.num_terms*beta+ self.topic_totals[k])\n",
    "                        prob = num/den\n",
    "                        p[k]= prob\n",
    "                p = p/sum(p)\n",
    "                number = numpy.argmax(numpy.random.multinomial(1,p))\n",
    "                \n",
    "                self.docs[doc_id]['topics'][i] = number\n",
    "                self.term_topics[token][number] += 1 # n_wk\n",
    "                self.doc_topics[doc_id][number] += 1 # n_dk\n",
    "                self.topic_totals[number] += 1       # n_k\n",
    "\n",
    "        \n",
    "\n",
    "        #super().make_draw(alpha, beta)\n",
    "    \n",
    "    def compute_logprob(self, alpha, beta):\n",
    "        \"\"\"Computes the log marginal posterior.\"\"\"\n",
    "        return super().compute_logprob(alpha, beta)\n",
    "    \n",
    "    def run(self, num_iterations = 50, alpha = 0.1, beta = 0.01):\n",
    "        self.logprobs = []\n",
    "        for iteration in range(num_iterations):\n",
    "            self.make_draw(alpha, beta)\n",
    "            logprob = self.compute_logprob(alpha, beta)\n",
    "            self.logprobs.append(logprob)\n",
    "            print(\"iteration {}, {}\".format(iteration, logprob))\n",
    "            \n",
    "    def plot(self):\n",
    "        super().plot()\n",
    "        \n",
    "    def new_speech(self, N):\n",
    "        alpha = 0.5\n",
    "        beta = 0.01\n",
    "        ### Creating the frequencies\n",
    "        Word = []\n",
    "        freqMat =  numpy.zeros((self.num_terms, self.num_topics))\n",
    "        for i in range(self.term_topics.shape[1]):\n",
    "            freqMat[:,i] = (self.term_topics[:,i]+beta)/(self.term_topics[:,i]+self.num_terms*beta)\n",
    "            freqMat[:,i] = (freqMat[:,i]/sum(freqMat[:,i]))        \n",
    "            \n",
    "            # Draw a vector of topic \n",
    "        theta = numpy.random.dirichlet([alpha]*self.num_topics)\n",
    "        for n in range(N):\n",
    "            index = numpy.argmax(theta) #gets the indices for the topic choice\n",
    "            number = numpy.argmax(numpy.random.multinomial(1,freqMat[:,index])) # gets the index for the word choice\n",
    "            Word.append(self.vocab[number])\n",
    "        print(Word)    "
   ]
  },
  {
   "cell_type": "code",
   "execution_count": 2,
   "metadata": {},
   "outputs": [
    {
     "data": {
      "text/plain": [
       "'import numpy\\na = numpy.arange(15).reshape(3, 5)\\nb = numpy.array([\"a\",\"b\",\"c\",\"d\",\"e\",\"f\",\"g\",\"h\",\"i\",\"j\",\"k\",\"l\", \"m\", \"n\", \"o\"])\\nc =b.reshape(3,5)\\nprint(c)\\nprint(a)\\nmatRes =  numpy.zeros((3, 3))\\nprint(matRes)\\nfor i in range(a.shape[1]):\\n    indices = a[:,i].argsort()[-3:][::-1]#top 3\\n    z =[]\\n    for j in indices:\\n        z .append(\"{} [{}]\".format(c[j,i], a[j,i]))\\n    print(\" ,\".join(z))\\n# This is an example for me\\nmatRes2 =  numpy.zeros((3, 5))\\nfor i in range(a.shape[1]):\\n    matRes2[:,i] = (a[:,i]/sum(a[:,i]))\\nprint(matRes2)\\n'"
      ]
     },
     "execution_count": 2,
     "metadata": {},
     "output_type": "execute_result"
    }
   ],
   "source": [
    "\"\"\"\n",
    "import numpy\n",
    "a = numpy.arange(15).reshape(3, 5)\n",
    "b = numpy.array([\"a\",\"b\",\"c\",\"d\",\"e\",\"f\",\"g\",\"h\",\"i\",\"j\",\"k\",\"l\", \"m\", \"n\", \"o\"])\n",
    "c =b.reshape(3,5)\n",
    "print(c)\n",
    "print(a)\n",
    "matRes =  numpy.zeros((3, 3))\n",
    "print(matRes)\n",
    "for i in range(a.shape[1]):\n",
    "    indices = a[:,i].argsort()[-3:][::-1]#top 3\n",
    "    z =[]\n",
    "    for j in indices:\n",
    "        z .append(\"{} [{}]\".format(c[j,i], a[j,i]))\n",
    "    print(\" ,\".join(z))\n",
    "# This is an example for me\n",
    "matRes2 =  numpy.zeros((3, 5))\n",
    "for i in range(a.shape[1]):\n",
    "    matRes2[:,i] = (a[:,i]/sum(a[:,i]))\n",
    "print(matRes2)\n",
    "\"\"\"## This is just for myself, not for evaluation"
   ]
  },
  {
   "cell_type": "markdown",
   "metadata": {},
   "source": [
    "Implement the make_draw function above. You should get behavior very similar to the results from calling the parent class."
   ]
  },
  {
   "cell_type": "code",
   "execution_count": 3,
   "metadata": {},
   "outputs": [
    {
     "name": "stdout",
     "output_type": "stream",
     "text": [
      "Read 2898 documents with a total of 8695 terms\n",
      "iteration 0, -9.847850075443736\n",
      "iteration 1, -9.591933629843115\n",
      "iteration 2, -9.431132744460886\n",
      "iteration 3, -9.319797477492186\n",
      "iteration 4, -9.217988142533063\n",
      "iteration 5, -9.150567425490532\n",
      "iteration 6, -9.089751625013093\n",
      "iteration 7, -9.045914196771813\n",
      "iteration 8, -8.99822896788592\n",
      "iteration 9, -8.960876418962842\n"
     ]
    }
   ],
   "source": [
    "model = MyGibbs(10, 'sotu_1975_2000.txt', 'stoplist_en.txt')\n",
    "model.make_draw(0.1,0.01)\n",
    "model.run(10)\n"
   ]
  },
  {
   "cell_type": "code",
   "execution_count": null,
   "metadata": {},
   "outputs": [],
   "source": []
  },
  {
   "cell_type": "markdown",
   "metadata": {},
   "source": [
    "### 2. Top terms\n",
    "Implement the print_topics function to extract the top j largest counts in n (w) by row. This is the most probable word types in each topic."
   ]
  },
  {
   "cell_type": "code",
   "execution_count": 4,
   "metadata": {},
   "outputs": [
    {
     "name": "stdout",
     "output_type": "stream",
     "text": [
      "america [192.0] ,people [148.0] ,world [109.0] ,children [104.0] ,freedom [92.0] ,congress [85.0] ,american [83.0] ,work [79.0] ,tonight [74.0] ,americans [73.0]\n",
      "energy [121.0] ,policy [83.0] ,america [71.0] ,years [65.0] ,administration [58.0] ,act [58.0] ,past [54.0] ,world [49.0] ,development [49.0] ,economic [49.0]\n",
      "work [91.0] ,children [86.0] ,make [86.0] ,health [85.0] ,care [76.0] ,century [67.0] ,congress [64.0] ,government [58.0] ,people [58.0] ,education [55.0]\n",
      "america [97.0] ,years [96.0] ,year [76.0] ,american [75.0] ,percent [65.0] ,million [50.0] ,tonight [46.0] ,high [44.0] ,major [42.0] ,world [39.0]\n",
      "world [87.0] ,soviet [61.0] ,countries [60.0] ,united [58.0] ,international [57.0] ,war [55.0] ,oil [52.0] ,states [49.0] ,east [47.0] ,relations [46.0]\n",
      "people [82.0] ,national [71.0] ,policy [49.0] ,work [48.0] ,support [43.0] ,rights [43.0] ,america [42.0] ,laws [42.0] ,year [38.0] ,defense [38.0]\n",
      "tax [99.0] ,people [93.0] ,family [83.0] ,work [69.0] ,americans [67.0] ,families [63.0] ,american [60.0] ,nation [56.0] ,jobs [53.0] ,million [53.0]\n",
      "people [104.0] ,government [103.0] ,years [79.0] ,time [74.0] ,social [73.0] ,americans [68.0] ,congress [64.0] ,federal [58.0] ,budget [56.0] ,american [55.0]\n",
      "world [174.0] ,nuclear [115.0] ,union [98.0] ,peace [92.0] ,america [88.0] ,nations [86.0] ,soviet [75.0] ,economic [65.0] ,american [64.0] ,future [62.0]\n",
      "federal [174.0] ,budget [130.0] ,year [127.0] ,government [122.0] ,congress [119.0] ,programs [117.0] ,tax [107.0] ,spending [102.0] ,billion [87.0] ,jobs [81.0]\n"
     ]
    }
   ],
   "source": [
    "model.print_topics(10)"
   ]
  },
  {
   "cell_type": "markdown",
   "metadata": {},
   "source": [
    "### 3. Explore the data\n",
    "\n",
    "Run your implemention on the State of the Union corpus until convergence with 10 topics, don't forget to remove stop words. Plot the log marginal posterior by the number of iterations. How many iterations do you need until convergence? How do you interpret the topics?\n",
    "\n",
    "[Hint: You can use the plot-function to print the marginal probability for each iteration. To get it working in Jupyter you need to run the command `%matplotlib inline` before plotting the first time.]"
   ]
  },
  {
   "cell_type": "code",
   "execution_count": 5,
   "metadata": {},
   "outputs": [
    {
     "name": "stdout",
     "output_type": "stream",
     "text": [
      "iteration 0, -8.92604788080609\n",
      "iteration 1, -8.88987244508865\n",
      "iteration 2, -8.86830749986855\n",
      "iteration 3, -8.837239823808988\n",
      "iteration 4, -8.814139654950175\n",
      "iteration 5, -8.796394665483717\n",
      "iteration 6, -8.78050283221805\n",
      "iteration 7, -8.757690019492287\n",
      "iteration 8, -8.734965169254654\n",
      "iteration 9, -8.717590131849379\n",
      "iteration 10, -8.70087564024808\n",
      "iteration 11, -8.684355491718883\n",
      "iteration 12, -8.66805192828962\n",
      "iteration 13, -8.65572998226685\n",
      "iteration 14, -8.64231445063438\n",
      "iteration 15, -8.636307696249654\n",
      "iteration 16, -8.620956086999971\n",
      "iteration 17, -8.612400630133138\n",
      "iteration 18, -8.606515875416052\n",
      "iteration 19, -8.593879144429208\n",
      "iteration 20, -8.587514258482368\n",
      "iteration 21, -8.579600778032189\n",
      "iteration 22, -8.567966003824937\n",
      "iteration 23, -8.557615418990265\n",
      "iteration 24, -8.556661799172653\n",
      "iteration 25, -8.546474272593258\n",
      "iteration 26, -8.540487383923141\n",
      "iteration 27, -8.534992832436584\n",
      "iteration 28, -8.527919041606811\n",
      "iteration 29, -8.520299194412244\n",
      "iteration 30, -8.513663436007407\n",
      "iteration 31, -8.505865247922095\n",
      "iteration 32, -8.498104379340564\n",
      "iteration 33, -8.496356704637074\n",
      "iteration 34, -8.489238521046412\n",
      "iteration 35, -8.491014639125584\n",
      "iteration 36, -8.480686375336242\n",
      "iteration 37, -8.478258951432906\n",
      "iteration 38, -8.471425622053127\n",
      "iteration 39, -8.470820064490555\n",
      "iteration 40, -8.463020551810327\n",
      "iteration 41, -8.459655826607564\n",
      "iteration 42, -8.45405821479123\n",
      "iteration 43, -8.453958389526228\n",
      "iteration 44, -8.448262926917975\n",
      "iteration 45, -8.451577198417295\n",
      "iteration 46, -8.444817808819929\n",
      "iteration 47, -8.444189644484497\n",
      "iteration 48, -8.44252455657023\n",
      "iteration 49, -8.429945585041278\n"
     ]
    },
    {
     "data": {
      "image/png": "[encoded data removed]",
      "text/plain": [
       "<matplotlib.figure.Figure at 0x7f1972921588>"
      ]
     },
     "metadata": {},
     "output_type": "display_data"
    }
   ],
   "source": [
    "%matplotlib inline\n",
    "model.run(50)\n",
    "model.plot()"
   ]
  },
  {
   "cell_type": "markdown",
   "metadata": {},
   "source": [
    "#### Answer here: Apparently, after 50 iterations it seems to converge around -8.4, ,meaning that the words that define the topics are the good ones, and that not much changes there will be anymore"
   ]
  },
  {
   "cell_type": "markdown",
   "metadata": {},
   "source": [
    "### 4. Simulate a new State of the Union speech\n",
    "\n",
    "Write a function new_speech in the MyGibbs class to use the estimated values for $\\Phi$ from your model (with stopwords removed) to simulate a new State of the Union speech. Start out by simulating $\\theta d \\sim Dir(\\alpha = 0.5)$ and then simulate your document. Does it make sense? Why, why not?"
   ]
  },
  {
   "cell_type": "code",
   "execution_count": 6,
   "metadata": {},
   "outputs": [
    {
     "name": "stdout",
     "output_type": "stream",
     "text": [
      "['leading', 'applied', 'nation', 'fellow', 'prosper', 'generation', 'possibility', 'century', 'make', 'planet', 'renewed', 'replaced', 'american', 'decide', 'future', 'signs', 'state', 'helped', 'hand', 'hopes', 'idea', 'material', 'back', 'make', 'time', 'tonight', 'path', 'children', 'peace', 'sense', 'change', 'transform', 'rooted', 'stop', 'families', 'set', 'show', 'veteran', 'rest', 'dole', 'single', 'freshman', 'threatening', 'vision', 'nicaragua', 'suzann', 'interests', 'blessings', 'wonderful', 'carry', 'greatest', 'europeans', 'great', 'primary', 'reflection', 'greatest', 'black', 'time', 'left', 'prison', 'america', 'giant', 'members', 'vivid', 'shared', 'seek', 'opportunity', 'eye', 'state', 'sort', 'human', 'find', 'native', 'fellow', 'built', 'compassion', 'president', 'create', 'people', 'bless', 'enrichment', 'world', 'divided', 'ordinary', 'dreams', 'obey', 'ready', 'dreams', 'forget', 'constitution', 'moral', 'newcomer', 'people', 'literally', 'hope', 'gave', 'men', 'restore', 'hard', 'freshman']\n"
     ]
    }
   ],
   "source": [
    "model.new_speech(N = 100)"
   ]
  },
  {
   "cell_type": "markdown",
   "metadata": {},
   "source": [
    "#### Answer here: It looks like the words it appears make sense since it looks like is vocabular for a new State of Union Speech."
   ]
  },
  {
   "cell_type": "markdown",
   "metadata": {},
   "source": [
    "### Bonus assignment:\n",
    "\n",
    "To get better understanding of the underlying model, you might want to implement your own function to compute the log marginal posterior. If so, implement the compute_logprob function.\n",
    "\n",
    "$$\\begin{align}\n",
    "\\log p(\\mathbf{z}|\\mathbf{w}) =& \\log\\prod^{K}p(\\mathbf{w}|\\mathbf{z},\\beta)\\prod^{D}p(\\mathbf{z}|\\alpha) \\\\\n",
    "=& \\sum^{K}\\log\\left[\\frac{\\Gamma\\left(\\sum^{V}\\beta\\right)}{\\prod^{V}\\Gamma\\left(\\beta\\right)}\\frac{\\prod^{V}\\Gamma\\left(n_{kv}^{(w)}+\\beta\\right)}{\\Gamma(\\sum^{V}n_{kv}^{(w)}+\\beta)}\\right]+\\sum^{D}\\log\\left[\\frac{\\Gamma\\left(\\sum^{K}\\alpha\\right)}{\\prod^{K}\\Gamma\\left(\\alpha\\right)}\\frac{\\prod^{K}\\Gamma\\left(n_{dk}^{(d)}+\\alpha\\right)}{\\Gamma(\\sum^{K}n_{dk}^{(d)}+\\alpha)}\\right] \\\\\n",
    "=& K\\log\\Gamma\\left(V\\beta\\right)-KV\\log\\Gamma\\left(\\beta\\right)+\\sum^{K}\\sum^{V}\\log\\Gamma\\left(n_{kv}^{(w)}+\\beta\\right)-\\sum^{K}\\log\\Gamma(\\sum^{V}n_{kv}^{(w)}+\\beta)\\\\\n",
    "&+ D\\log\\Gamma\\left(K\\alpha\\right)-DK\\log\\Gamma\\left(\\alpha\\right)+\\sum^{D}\\sum^{K}\\log\\Gamma\\left(n_{dk}^{(d)}+\\alpha\\right)-\\sum^{D}\\log\\Gamma(\\sum^{K}n_{dk}^{(d)}+\\alpha)\n",
    "\\end{align}$$\n",
    "\n",
    "In Python, use `scipy.special.gammaln` for $\\log\\Gamma(x)$ (if you run into problems, you might try `math.lgamma` instead)."
   ]
  },
  {
   "cell_type": "code",
   "execution_count": null,
   "metadata": {},
   "outputs": [],
   "source": []
  }
 ],
 "metadata": {
  "kernelspec": {
   "display_name": "Python 3",
   "language": "python",
   "name": "python3"
  },
  "language_info": {
   "codemirror_mode": {
    "name": "ipython",
    "version": 3
   },
   "file_extension": ".py",
   "mimetype": "text/x-python",
   "name": "python",
   "nbconvert_exporter": "python",
   "pygments_lexer": "ipython3",
   "version": "3.4.3"
  }
 },
 "nbformat": 4,
 "nbformat_minor": 2
}
